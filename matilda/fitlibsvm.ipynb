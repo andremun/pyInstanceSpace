{
 "cells": [
  {
   "cell_type": "code",
   "execution_count": 1,
   "id": "0eb5991b-7b32-40b3-a31c-0f0f776453df",
   "metadata": {},
   "outputs": [
    {
     "name": "stdout",
     "output_type": "stream",
     "text": [
      "complete\n"
     ]
    }
   ],
   "source": [
    "import numpy as np\n",
    "import csv\n",
    "import pandas as pd\n",
    "from numpy.typing import NDArray\n",
    "from scipy.stats import zscore,qmc\n",
    "from pytictoc import TicToc\n",
    "from scipy import optimize, stats\n",
    "from sklearn.model_selection import GridSearchCV, StratifiedKFold, KFold, PredefinedSplit\n",
    "from sklearn.calibration import CalibratedClassifierCV\n",
    "from sklearn.metrics import confusion_matrix\n",
    "from sklearn.svm import SVC\n",
    "from sklearn.pipeline import Pipeline\n",
    "from sklearn.preprocessing import StandardScaler, MinMaxScaler\n",
    "from pyDOE import lhs\n",
    " \n",
    "#from sklearn.metrics import accuracy_score\n",
    "print('complete')\n",
    "test_file_path = \"../tests/pythia/input/\""
   ]
  },
  {
   "cell_type": "code",
   "execution_count": 2,
   "id": "4bff60eb-72fd-4435-beec-3532be8b447d",
   "metadata": {},
   "outputs": [
    {
     "name": "stdout",
     "output_type": "stream",
     "text": [
      "[[nan nan]]\n"
     ]
    }
   ],
   "source": [
    "nalgos = 10\n",
    "Ybin = pd.read_csv(\"../tests/pythia/input/ybin.csv\",header=None).values\n",
    "z = pd.read_csv('../tests/pythia/input/Z.csv',header=None)\n",
    "z_norm = stats.zscore(z, ddof=1)\n",
    "params = pd.read_csv('../tests/pythia/input/params.csv',header=None).values\n",
    "print(params)\n",
    "out = {\n",
    "        'cp': [None] * nalgos,\n",
    "        'svm': [None] * nalgos,\n",
    "        'cvcmat': np.zeros((nalgos, 4)),\n",
    "        'Ysub': np.zeros_like(Ybin, dtype=bool),\n",
    "        'Yhat': np.zeros_like(Ybin, dtype=bool),\n",
    "        'Pr0sub': np.zeros_like(Ybin, dtype=float),\n",
    "        'Pr0hat': np.zeros_like(Ybin, dtype=float),\n",
    "        'boxcosnt': np.zeros(nalgos),\n",
    "        'kscale': np.zeros(nalgos),\n",
    "    }"
   ]
  },
  {
   "cell_type": "code",
   "execution_count": null,
   "id": "82387372-47b7-4fb5-895f-4db9d391ae17",
   "metadata": {},
   "outputs": [],
   "source": [
    "print(\"Ybin shape:\", Ybin.shape)\n"
   ]
  },
  {
   "cell_type": "code",
   "execution_count": 3,
   "id": "aa3f0e78-223b-433e-9493-92cbd7419d69",
   "metadata": {},
   "outputs": [
    {
     "name": "stdout",
     "output_type": "stream",
     "text": [
      "Ybin shape: (212, 10)\n",
      "[(array([  0,   1,   2,   3,   4,   5,   6,   7,   8,  10,  11,  13,  15,\n",
      "        16,  17,  18,  19,  21,  22,  23,  24,  25,  26,  27,  28,  29,\n",
      "        30,  32,  33,  35,  36,  37,  38,  39,  40,  41,  42,  43,  46,\n",
      "        47,  48,  49,  50,  51,  52,  53,  54,  59,  62,  63,  65,  66,\n",
      "        67,  70,  71,  72,  73,  74,  75,  76,  77,  79,  80,  81,  82,\n",
      "        86,  87,  88,  90,  91,  92,  94,  95,  97,  98,  99, 100, 101,\n",
      "       102, 103, 104, 105, 107, 108, 109, 111, 112, 113, 114, 115, 117,\n",
      "       118, 119, 120, 122, 123, 124, 125, 126, 128, 130, 131, 132, 133,\n",
      "       134, 136, 137, 138, 139, 140, 141, 143, 144, 145, 146, 147, 149,\n",
      "       150, 151, 152, 153, 154, 155, 156, 157, 158, 159, 161, 162, 163,\n",
      "       164, 165, 166, 167, 169, 170, 171, 173, 174, 175, 176, 177, 178,\n",
      "       180, 182, 183, 185, 186, 188, 189, 190, 191, 193, 194, 195, 196,\n",
      "       198, 199, 200, 201, 202, 203, 204, 206, 207, 208, 209, 210, 211]), array([  9,  12,  14,  20,  31,  34,  44,  45,  55,  56,  57,  58,  60,\n",
      "        61,  64,  68,  69,  78,  83,  84,  85,  89,  93,  96, 106, 110,\n",
      "       116, 121, 127, 129, 135, 142, 148, 160, 168, 172, 179, 181, 184,\n",
      "       187, 192, 197, 205])), (array([  1,   2,   3,   4,   5,   6,   8,   9,  10,  12,  13,  14,  15,\n",
      "        16,  17,  18,  19,  20,  21,  23,  24,  25,  26,  28,  29,  30,\n",
      "        31,  32,  33,  34,  36,  37,  38,  39,  40,  41,  42,  43,  44,\n",
      "        45,  46,  47,  48,  49,  52,  53,  54,  55,  56,  57,  58,  59,\n",
      "        60,  61,  63,  64,  65,  67,  68,  69,  70,  71,  72,  74,  76,\n",
      "        77,  78,  79,  81,  82,  83,  84,  85,  86,  87,  88,  89,  90,\n",
      "        93,  94,  95,  96,  97,  98,  99, 100, 102, 103, 104, 106, 107,\n",
      "       109, 110, 111, 114, 116, 117, 118, 119, 120, 121, 123, 124, 125,\n",
      "       126, 127, 129, 131, 132, 133, 135, 136, 137, 141, 142, 143, 144,\n",
      "       146, 148, 149, 150, 151, 152, 153, 155, 156, 158, 160, 162, 163,\n",
      "       164, 165, 166, 167, 168, 170, 171, 172, 173, 174, 175, 177, 178,\n",
      "       179, 180, 181, 182, 184, 185, 186, 187, 188, 189, 190, 192, 193,\n",
      "       195, 196, 197, 198, 199, 204, 205, 206, 207, 208, 209, 210, 211]), array([  0,   7,  11,  22,  27,  35,  50,  51,  62,  66,  73,  75,  80,\n",
      "        91,  92, 101, 105, 108, 112, 113, 115, 122, 128, 130, 134, 138,\n",
      "       139, 140, 145, 147, 154, 157, 159, 161, 169, 176, 183, 191, 194,\n",
      "       200, 201, 202, 203])), (array([  0,   1,   3,   6,   7,   9,  10,  11,  12,  13,  14,  15,  16,\n",
      "        17,  18,  19,  20,  22,  24,  25,  26,  27,  28,  29,  30,  31,\n",
      "        33,  34,  35,  36,  37,  38,  39,  41,  44,  45,  46,  47,  48,\n",
      "        50,  51,  52,  54,  55,  56,  57,  58,  59,  60,  61,  62,  64,\n",
      "        65,  66,  67,  68,  69,  70,  73,  74,  75,  76,  77,  78,  79,\n",
      "        80,  83,  84,  85,  87,  88,  89,  90,  91,  92,  93,  94,  96,\n",
      "        97,  98, 100, 101, 105, 106, 107, 108, 109, 110, 111, 112, 113,\n",
      "       115, 116, 117, 118, 119, 120, 121, 122, 125, 126, 127, 128, 129,\n",
      "       130, 131, 132, 134, 135, 136, 137, 138, 139, 140, 141, 142, 143,\n",
      "       145, 147, 148, 149, 150, 151, 152, 153, 154, 155, 157, 158, 159,\n",
      "       160, 161, 162, 164, 167, 168, 169, 170, 171, 172, 174, 175, 176,\n",
      "       178, 179, 181, 183, 184, 185, 187, 188, 189, 191, 192, 193, 194,\n",
      "       195, 196, 197, 198, 199, 200, 201, 202, 203, 204, 205, 206, 207,\n",
      "       211]), array([  2,   4,   5,   8,  21,  23,  32,  40,  42,  43,  49,  53,  63,\n",
      "        71,  72,  81,  82,  86,  95,  99, 102, 103, 104, 114, 123, 124,\n",
      "       133, 144, 146, 156, 163, 165, 166, 173, 177, 180, 182, 186, 190,\n",
      "       208, 209, 210])), (array([  0,   1,   2,   4,   5,   7,   8,   9,  11,  12,  13,  14,  15,\n",
      "        16,  17,  19,  20,  21,  22,  23,  25,  27,  29,  31,  32,  34,\n",
      "        35,  36,  40,  41,  42,  43,  44,  45,  48,  49,  50,  51,  53,\n",
      "        54,  55,  56,  57,  58,  59,  60,  61,  62,  63,  64,  65,  66,\n",
      "        68,  69,  71,  72,  73,  75,  76,  77,  78,  79,  80,  81,  82,\n",
      "        83,  84,  85,  86,  89,  91,  92,  93,  94,  95,  96,  97,  99,\n",
      "       101, 102, 103, 104, 105, 106, 108, 109, 110, 111, 112, 113, 114,\n",
      "       115, 116, 117, 121, 122, 123, 124, 125, 127, 128, 129, 130, 131,\n",
      "       132, 133, 134, 135, 138, 139, 140, 141, 142, 144, 145, 146, 147,\n",
      "       148, 149, 151, 152, 153, 154, 155, 156, 157, 158, 159, 160, 161,\n",
      "       162, 163, 165, 166, 168, 169, 172, 173, 174, 175, 176, 177, 178,\n",
      "       179, 180, 181, 182, 183, 184, 185, 186, 187, 188, 189, 190, 191,\n",
      "       192, 194, 196, 197, 199, 200, 201, 202, 203, 204, 205, 208, 209,\n",
      "       210]), array([  3,   6,  10,  18,  24,  26,  28,  30,  33,  37,  38,  39,  46,\n",
      "        47,  52,  67,  70,  74,  87,  88,  90,  98, 100, 107, 118, 119,\n",
      "       120, 126, 136, 137, 143, 150, 164, 167, 170, 171, 193, 195, 198,\n",
      "       206, 207, 211])), (array([  0,   2,   3,   4,   5,   6,   7,   8,   9,  10,  11,  12,  14,\n",
      "        18,  20,  21,  22,  23,  24,  26,  27,  28,  30,  31,  32,  33,\n",
      "        34,  35,  37,  38,  39,  40,  42,  43,  44,  45,  46,  47,  49,\n",
      "        50,  51,  52,  53,  55,  56,  57,  58,  60,  61,  62,  63,  64,\n",
      "        66,  67,  68,  69,  70,  71,  72,  73,  74,  75,  78,  80,  81,\n",
      "        82,  83,  84,  85,  86,  87,  88,  89,  90,  91,  92,  93,  95,\n",
      "        96,  98,  99, 100, 101, 102, 103, 104, 105, 106, 107, 108, 110,\n",
      "       112, 113, 114, 115, 116, 118, 119, 120, 121, 122, 123, 124, 126,\n",
      "       127, 128, 129, 130, 133, 134, 135, 136, 137, 138, 139, 140, 142,\n",
      "       143, 144, 145, 146, 147, 148, 150, 154, 156, 157, 159, 160, 161,\n",
      "       163, 164, 165, 166, 167, 168, 169, 170, 171, 172, 173, 176, 177,\n",
      "       179, 180, 181, 182, 183, 184, 186, 187, 190, 191, 192, 193, 194,\n",
      "       195, 197, 198, 200, 201, 202, 203, 205, 206, 207, 208, 209, 210,\n",
      "       211]), array([  1,  13,  15,  16,  17,  19,  25,  29,  36,  41,  48,  54,  59,\n",
      "        65,  76,  77,  79,  94,  97, 109, 111, 117, 125, 131, 132, 141,\n",
      "       149, 151, 152, 153, 155, 158, 162, 174, 175, 178, 185, 188, 189,\n",
      "       196, 199, 204]))]\n"
     ]
    }
   ],
   "source": [
    "nalgos = 10\n",
    "print(\"Ybin shape:\", Ybin.shape)\n",
    "\n",
    "\n",
    "for i in range(nalgos):\n",
    "    rng = np.random.default_rng(seed=0)\n",
    "    skf = StratifiedKFold(n_splits=5, shuffle=True, random_state=0)\n",
    "    out['cp'][i] = list(skf.split(z_norm, Ybin[:, i]))\n",
    "    \n",
    "    #fold_idx = 0\n",
    "    #train_index, test_index = out['cp'][i][fold_idx]\n",
    "    \n",
    "    #print(f\"Fold {fold_idx + 1}:\")\n",
    "    #print(\"TRAIN:\", train_index)\n",
    "    #print(\"TEST:\", test_index)\n",
    "  \n",
    "#(out['svm'][0], out['Ysub'][:, 0], out['Pr0sub'][:, 0], out['Yhat'][:, 0],\n",
    "#out['Pr0hat'][:, 0], out['boxcosnt'][0], out['kscale'][0]) = \n",
    "\n",
    "print(out['cp'][0])\n",
    "#fitlibsvm(z_norm, Ybin[:, 0],out['cp'][0], KernelFcn,params[0, :])\n",
    "    "
   ]
  },
  {
   "cell_type": "code",
   "execution_count": null,
   "id": "c6b68fdd-3491-488b-93be-329bb6ce5be2",
   "metadata": {},
   "outputs": [],
   "source": [
    "#fitlibsvm"
   ]
  },
  {
   "cell_type": "code",
   "execution_count": 4,
   "id": "64927fed-227a-47d5-84b8-c19a277ed917",
   "metadata": {},
   "outputs": [
    {
     "name": "stdout",
     "output_type": "stream",
     "text": [
      "(212,)\n",
      "==paragrid\n",
      "[[1.25602188e-03 9.42749786e-02]\n",
      " [1.79587112e-03 4.17478285e-03]\n",
      " [2.43113733e-03 7.30333712e+00]\n",
      " [2.65255106e-03 1.84112402e-02]\n",
      " [4.45118344e-03 1.93288226e-01]\n",
      " [5.04936899e-03 9.05525700e+00]\n",
      " [9.34891073e-03 8.34730057e-02]\n",
      " [9.73167957e-03 1.87846751e+00]\n",
      " [1.37834941e-02 4.10324754e+00]\n",
      " [2.14879748e-02 3.92015236e-01]\n",
      " [2.77580585e-02 2.57728812e+00]\n",
      " [4.06217112e-02 3.05854129e-03]\n",
      " [5.77012510e-02 2.70677430e-02]\n",
      " [7.88877097e-02 7.62127922e-03]\n",
      " [9.76581125e-02 2.29220330e-03]\n",
      " [1.27328664e-01 1.55937808e-01]\n",
      " [1.84681838e-01 5.76578473e-02]\n",
      " [2.61142069e-01 6.04879034e-01]\n",
      " [3.67230904e-01 1.34646570e-03]\n",
      " [5.51322160e-01 7.59703949e-01]\n",
      " [6.60280673e-01 1.16851703e+00]\n",
      " [8.88283004e-01 4.95382598e+00]\n",
      " [1.63227479e+00 1.43093321e-03]\n",
      " [1.91694212e+00 1.69953933e-02]\n",
      " [2.74168600e+00 1.43590115e+01]\n",
      " [3.44516374e+00 1.27608200e+00]\n",
      " [4.47063299e+00 6.61737311e-03]\n",
      " [7.85306019e+00 1.05433684e-02]\n",
      " [1.14497391e+01 3.90067277e-02]\n",
      " [1.46680806e+01 2.64807869e-01]]\n"
     ]
    }
   ],
   "source": [
    "#def fitlibsvm(z,ybin,cp,nkold,params):\n",
    "cp = out['cp'][0]\n",
    "#print(cp)\n",
    "z = z_norm\n",
    "ninst = z.shape[0]\n",
    "#print(z)\n",
    "maxgrid = 4\n",
    "mingrid = -10\n",
    "nvals = 30\n",
    "Ybin = pd.read_csv(\"../tests/pythia/input/ybin.csv\", header=None).iloc[:, 0].values\n",
    "print(Ybin.shape)\n",
    "\n",
    "\n",
    "ninst = z.shape[0]\n",
    "maxgrid = 4\n",
    "mingrid = -10\n",
    "print(\"==paragrid\")\n",
    "\n",
    "    #if np.isnan(params).any():\n",
    "    # Set random seed for reproducibility\n",
    "rng = np.random.default_rng(seed=0)\n",
    "\n",
    "# Number of samples\n",
    "nvals = 30\n",
    "\n",
    "# Generate Latin Hypercube Samples\n",
    "lhs = stats.qmc.LatinHypercube(d=2, seed=rng)\n",
    "samples = lhs.random(nvals)\n",
    "\n",
    "# Apply scaling and exponentiation\n",
    "paramgrid = 2 ** ((maxgrid - mingrid) * samples + mingrid)\n",
    "\n",
    "# Sort rows by the first column, and if equal, by the second column\n",
    "paramgrid = paramgrid[np.lexsort((paramgrid[:, 1], paramgrid[:, 0]))]\n",
    "print(paramgrid)\n",
    "\n",
    "    #if np.isnan(params).any():\n",
    "Ybin = np.array(Ybin, dtype=float) + 1\n",
    "Ysub = np.zeros((ninst, nvals))\n",
    "\n",
    "Psub = np.zeros((ninst, nvals))\n",
    "\n",
    "#print(Ybin.shape)\n",
    "#print(Ybin.shape)\n"
   ]
  },
  {
   "cell_type": "code",
   "execution_count": null,
   "id": "5af972d0-0aba-40c2-ba9f-365c9ba58c2d",
   "metadata": {},
   "outputs": [],
   "source": [
    "for jj in range(len(cp)):\n",
    "    train_idx, test_idx = cp[jj]\n",
    "    idx = np.zeros(len(z),dtype=int)\n",
    "    idx[train_idx] = 1\n",
    "\n",
    "    #print(\"Train indices:\", train_idx.shape)\n",
    "    #print(\"Test indices:\", test_idx.shape)\n",
    "    #print(\"Idx array:\", idx.shape)\n",
    "    #print(Ybin)\n",
    "    Ztrain = z[idx == 1]\n",
    "    Ytrain = Ybin[idx == 1]\n",
    "    Ztest = z[idx == 0]\n",
    "    Ytest = Ybin[idx == 0]\n",
    "    if jj == 0:\n",
    "        print(Ztrain)\n",
    "        print()\n",
    "        print(Ytrain)\n",
    "        print()\n",
    "        print(Ztest)\n",
    "        print()\n",
    "        print(Ytest)\n",
    "    Yaux = np.zeros((Ztest.shape[0], nvals))\n",
    "    Paux = np.zeros((Ztest.shape[0], nvals))"
   ]
  },
  {
   "cell_type": "code",
   "execution_count": null,
   "id": "4a9bafd2-c8de-42b3-a1fb-57819b5209d5",
   "metadata": {},
   "outputs": [],
   "source": [
    "paramgrid_dict = {\n",
    "    'C': paramgrid[:, 0],      \n",
    "    'gamma': paramgrid[:, 1]   \n",
    "}\n",
    "print(paramgrid_dict)"
   ]
  },
  {
   "cell_type": "code",
   "execution_count": null,
   "id": "e044769a-bb44-49b9-a01a-d12527e9c7a5",
   "metadata": {},
   "outputs": [],
   "source": [
    "    # initGridSearchCV\n",
    "    svc = SVC(probability=True,kernel='rbf')\n",
    "    print(Ztrain.shape)\n",
    "    print(Ytrain.shape)\n",
    "    print(out['cp'][0])\n",
    "\n",
    "    for train_idx, test_idx in out['cp'][0]:\n",
    "        print(f\"Max train_idx: {max(train_idx)}, Max test_idx: {max(test_idx)}\")\n",
    "        print(f\"Length of Ztrain: {len(Ztrain)}, Length of Ytrain: {len(Ytrain)}\")\n",
    "    grid_search = GridSearchCV(estimator=svc, \n",
    "                               param_grid=paramgrid_dict, \n",
    "                               cv=out['cp'][0], \n",
    "                               scoring='accuracy', \n",
    "                               n_jobs=1)\n",
    "    \n",
    "    grid_search.fit(Ztrain, Ytrain)\n",
    "    \n",
    "    best_model = grid_search.best_estimator_\n",
    "    \n",
    "    Yaux = best_model.predict(Ztest)\n",
    "    Paux = best_model.predict_proba(Ztest)[:, 1]  \n",
    "    \n",
    "    Ysub[test_idx, 0] = Yaux\n",
    "    Psub[test_idx, 0] = Paux"
   ]
  },
  {
   "cell_type": "code",
   "execution_count": null,
   "id": "d60d86d4-719e-4b0a-95df-7a3c6a5a9e1e",
   "metadata": {},
   "outputs": [],
   "source": [
    "print(cp)"
   ]
  },
  {
   "cell_type": "code",
   "execution_count": null,
   "id": "8821fae9-1535-4dbe-87b2-b22b1f722dc7",
   "metadata": {},
   "outputs": [],
   "source": [
    "y = pd.read_csv(\"../tests/pythia/input/y.csv\",header=None)\n",
    "y = y.values.tolist()\n",
    "print(y)"
   ]
  },
  {
   "cell_type": "code",
   "execution_count": null,
   "id": "2601b353-46f5-47b8-8b9f-672f25aaa15f",
   "metadata": {},
   "outputs": [],
   "source": []
  },
  {
   "cell_type": "code",
   "execution_count": null,
   "id": "d6d18243-bf5a-44b2-a83d-73f1cb0d1162",
   "metadata": {},
   "outputs": [],
   "source": [
    "ninst = z.shape[0]\n",
    "print(z)\n",
    "maxgrid = 4\n",
    "mingrid = -10\n",
    "nvals = 30\n",
    "Ybin = pd.read_csv(\"../tests/pythia/input/ybin.csv\",header=None).values\n",
    "print(Ybin)"
   ]
  },
  {
   "cell_type": "code",
   "execution_count": null,
   "id": "f33f25ed-0c96-4ca0-a95c-888bcd835cdb",
   "metadata": {},
   "outputs": [],
   "source": [
    "z = pd.read_csv('../tests/pythia/input/Z.csv',header=None)\n",
    "#z_norm = (z-np.mean(z,axis=0))/np.std(z,ddof=1,axis=0)\n",
    "z_norm = stats.zscore(z, ddof=1)\n",
    "\n",
    "print(z_norm)\n",
    "print(z)"
   ]
  },
  {
   "cell_type": "code",
   "execution_count": null,
   "id": "daa11bf1-9d78-4ae3-a1c7-e639c4426acf",
   "metadata": {},
   "outputs": [],
   "source": [
    "mu = np.mean(z, axis=0)\n",
    "sigma = np.std(z, ddof=1, axis=0)\n",
    "print('mu',mu)\n",
    "print('sig match',sigma)"
   ]
  },
  {
   "cell_type": "code",
   "execution_count": null,
   "id": "f4394398-93d7-4b08-bf16-9a289f1993f4",
   "metadata": {},
   "outputs": [],
   "source": [
    "#z_norm_M = pd.read_csv('../../test/z_norm_M.csv', header=None, dtype=np.float64)\n",
    "z_norm_M = pd.read_csv('./data/z_norm_M.csv', header=None, dtype=np.float64)\n",
    "tolerance = 1e-6\n",
    "are_close = np.isclose(z_norm_M.values, z_norm.values, atol=tolerance)\n",
    "results = are_close.all()\n",
    "\n",
    "print(\"Are all elements close within the tolerance level: \", results)\n",
    "if not results:\n",
    "    mismatches = np.where(~are_close)\n",
    "    print(\"Mismatch found at positions:\", mismatches)"
   ]
  },
  {
   "cell_type": "code",
   "execution_count": null,
   "id": "3ebd6f4b-d0bc-4155-b273-3bcaecc9105e",
   "metadata": {},
   "outputs": [],
   "source": [
    "ninst = z.shape[0]\n",
    "maxgrid = 4\n",
    "mingrid = -10\n",
    "print(ninst)"
   ]
  },
  {
   "cell_type": "code",
   "execution_count": null,
   "id": "bf001101-82c7-4435-8a50-c9be4125862d",
   "metadata": {},
   "outputs": [],
   "source": [
    "#if np.isnan(params).any():\n",
    "# Set random seed for reproducibility\n",
    "rng = np.random.default_rng(seed=0)\n",
    "\n",
    "# Number of samples\n",
    "nvals = 30\n",
    "\n",
    "# Generate Latin Hypercube Samples\n",
    "lhs = stats.qmc.LatinHypercube(d=2, seed=rng)\n",
    "samples = lhs.random(nvals)\n",
    "\n",
    "# Apply scaling and exponentiation\n",
    "paramgrid = 2 ** ((maxgrid - mingrid) * samples + mingrid)\n",
    "\n",
    "# Sort rows by the first column, and if equal, by the second column\n",
    "paramgrid = paramgrid[np.lexsort((paramgrid[:, 1], paramgrid[:, 0]))]\n",
    "print(paramgrid)"
   ]
  },
  {
   "cell_type": "code",
   "execution_count": null,
   "id": "c9e4f745-6953-4bf2-90ff-710c3f6f0890",
   "metadata": {},
   "outputs": [],
   "source": [
    "Ybin = np.array(Ybin, dtype=float) + 1\n",
    "print(Ybin)\n"
   ]
  },
  {
   "cell_type": "code",
   "execution_count": null,
   "id": "43ca6921-077f-4cdf-aa15-7e51515332a7",
   "metadata": {},
   "outputs": [],
   "source": [
    "Ysub = np.zeros((ninst, nvals))\n",
    "print(Ysub)"
   ]
  },
  {
   "cell_type": "code",
   "execution_count": null,
   "id": "d127c14f-890f-4a78-b627-0eb1417cd8c7",
   "metadata": {},
   "outputs": [],
   "source": [
    "Psub = np.zeros((ninst, nvals))\n",
    "print(Psub)"
   ]
  },
  {
   "cell_type": "code",
   "execution_count": null,
   "id": "9ee2eb72-2a2b-4b4a-8865-806b4bdff48f",
   "metadata": {},
   "outputs": [],
   "source": [
    "lhs_sample = lhs(num_dimensions, samples=num_samples)"
   ]
  }
 ],
 "metadata": {
  "kernelspec": {
   "display_name": "Python 3 (ipykernel)",
   "language": "python",
   "name": "python3"
  },
  "language_info": {
   "codemirror_mode": {
    "name": "ipython",
    "version": 3
   },
   "file_extension": ".py",
   "mimetype": "text/x-python",
   "name": "python",
   "nbconvert_exporter": "python",
   "pygments_lexer": "ipython3",
   "version": "3.12.3"
  }
 },
 "nbformat": 4,
 "nbformat_minor": 5
}
