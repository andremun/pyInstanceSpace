{
 "cells": [
  {
   "cell_type": "markdown",
   "metadata": {},
   "source": [
    "## Library used and deeclare data needed"
   ]
  },
  {
   "cell_type": "code",
   "execution_count": 2,
   "metadata": {},
   "outputs": [],
   "source": [
    "import numpy as np\n",
    "from numpy.typing import NDArray\n",
    "from scipy.stats import zscore\n",
    "from pytictoc import TicToc\n",
    "from sklearn.model_selection import GridSearchCV, StratifiedKFold\n",
    "from sklearn.calibration import CalibratedClassifierCV\n",
    "from sklearn.metrics import confusion_matrix\n",
    "from sklearn.svm import SVC\n",
    "import pandas as pd\n",
    "from sklearn.metrics import accuracy_score\n",
    "\n",
    "# from matilda.data.model import AlgorithmSummary\n",
    "# from matilda.data.option import Opts"
   ]
  },
  {
   "cell_type": "code",
   "execution_count": 26,
   "metadata": {},
   "outputs": [],
   "source": [
    "kernel_fcn = 'rbf'\n",
    "opts_csv_fold = 5\n",
    "nalgos = 10\n",
    "\n",
    "# prepare for y, transpose it\n",
    "# y = pd.read_csv('./data/ybin.csv')\n",
    "# y = y.values.tolist()\n",
    "\n",
    "y = np.loadtxt('./data/ybin.csv', delimiter=',', skiprows=1)\n",
    "\n",
    "# prepare for z, normalise it\n",
    "z = pd.read_csv('./data/z.csv')\n",
    "z_norm = zscore(z, axis = 0, ddof = 1)\n",
    "\n",
    "ninst, nalgos = y.shape\n",
    "w = np.ones((ninst, nalgos))"
   ]
  },
  {
   "cell_type": "markdown",
   "metadata": {},
   "source": [
    "### Training"
   ]
  },
  {
   "cell_type": "code",
   "execution_count": 7,
   "metadata": {},
   "outputs": [],
   "source": [
    "def fit_libsvm(z, y, kkv, kernel_given):\n",
    "    accuracy= dict()\n",
    "    for k, v in kkv.items():\n",
    "        train_index, test_index = v[0], v[1]\n",
    "        # prepare training data\n",
    "        x_train = [z[i] for i in train_index]\n",
    "        y_train = [y[i] for i in train_index]\n",
    "        # prepare test data\n",
    "        x_test = [z[i] for i in test_index]\n",
    "        y_test = [y[i] for i in test_index]\n",
    "        svm = SVC(kernel=kernel_given, C=1.0, random_state = 0)\n",
    "        svm.fit(x_train, y_train)\n",
    "        y_pred = svm.predict(x_test)\n",
    "        # calculate accuracy\n",
    "        accuracy[k] = accuracy_score(y_test, y_pred)\n",
    "        \n",
    "    return accuracy"
   ]
  },
  {
   "cell_type": "code",
   "execution_count": 30,
   "metadata": {},
   "outputs": [],
   "source": [
    "def fit_matsvm(z, y, w, skf, kernel_given, params):\n",
    "    # Set up parallel workers in pool\n",
    "    \n",
    "    # Check if hyperparameter is given by user\n",
    "    if(np.isnan(params)):\n",
    "        # Initialize a random number generator\n",
    "        np.random.seed(0)\n",
    "\n",
    "        # Scikit-learn lib need to ensuring data contiguity\n",
    "        z = np.ascontiguousarray(z)\n",
    "        y = np.ascontiguousarray(y)\n",
    "        w = np.ascontiguousarray(w)\n",
    "\n",
    "        # Debug shape and data type\n",
    "        # print(w.flags)\n",
    "\n",
    "        # Retrieve default hyperparameters for fitcsvm and sets the range for the box constraint (C) and kernel scale\n",
    "        # Define the range for C and gamma in a logarithmic scale\n",
    "        param_grid = {\n",
    "        'C': np.logspace(-10, 4, base=2, num=15),\n",
    "        'gamma': np.logspace(-10, 4, base=2, num=15)  \n",
    "        }\n",
    "\n",
    "        # cache_size: maximal, ?????class_weight='balanced'\n",
    "        svm_model = SVC(kernel=kernel_given, cache_size=2000, class_weight='balanced', probability=True)\n",
    "\n",
    "        # Used for exhaustive search over specified parameter values for the SVM. The param_grid defines \n",
    "        # the range over which C and gamma will be tuned.\n",
    "        # GridSearchCV for optimizing the hyperparameters\n",
    "        grid_search = GridSearchCV(\n",
    "            estimator=svm_model, \n",
    "            param_grid=param_grid, \n",
    "            scoring='roc_auc', \n",
    "            cv=skf, \n",
    "            verbose=0\n",
    "            #, n_jobs=nworkers if nworkers != 0 else None,\n",
    "            )\n",
    "\n",
    "        # Fit GridSearchCV\n",
    "        grid_search.fit(z, y, sample_weight=w)\n",
    "\n",
    "        # Retrieve the best model and hyperparameters\n",
    "        best_svm = grid_search.best_estimator_\n",
    "        best_C = grid_search.best_params_['C']\n",
    "        best_g = grid_search.best_params_['gamma']\n",
    "\n",
    "        # Calibrate the probability model\n",
    "        calibrated_svm = CalibratedClassifierCV(best_svm, cv='prefit')\n",
    "        calibrated_svm.fit(z, y, sample_weight=w)\n",
    "        \n",
    "        # Making predictions on the training data\n",
    "        y_sub = calibrated_svm.predict(z)\n",
    "        p_sub = calibrated_svm.predict_proba(z)[:, 1]\n",
    "\n",
    "        t_y_sub = best_svm.predict(z)\n",
    "        t_p_sub = best_svm.predict_proba(z)[:, 1]\n",
    "\n",
    "        # Making predictions on the same data to simulate resubstitution prediction\n",
    "        y_hat = y_sub\n",
    "        p_hat = p_sub\n",
    "\n",
    "        print(\"Resubstitution Predictions:\", y_sub)\n",
    "        print(\"Resubstitution Probabilities:\", p_sub)\n",
    "        print(\"T sub:\", t_y_sub)\n",
    "        print(\"T on p sub:\", t_p_sub)\n",
    "        print(\"Best C:\", best_C)\n",
    "        print(\"Best gamma:\", best_g)\n",
    "\n",
    "\n",
    "    return calibrated_svm #, y_sub, p_sub, y_hat, p_hat, best_C, best_g"
   ]
  },
  {
   "cell_type": "code",
   "execution_count": 31,
   "metadata": {},
   "outputs": [
    {
     "name": "stdout",
     "output_type": "stream",
     "text": [
      "  C_CONTIGUOUS : False\n",
      "  F_CONTIGUOUS : False\n",
      "  OWNDATA : False\n",
      "  WRITEABLE : True\n",
      "  ALIGNED : True\n",
      "  WRITEBACKIFCOPY : False\n",
      "\n"
     ]
    },
    {
     "ename": "ValueError",
     "evalue": "ndarray is not C-contiguous",
     "output_type": "error",
     "traceback": [
      "\u001b[0;31m---------------------------------------------------------------------------\u001b[0m",
      "\u001b[0;31mValueError\u001b[0m                                Traceback (most recent call last)",
      "Cell \u001b[0;32mIn[31], line 21\u001b[0m\n\u001b[1;32m     18\u001b[0m     kkv[i] \u001b[38;5;241m=\u001b[39m [train_index\u001b[38;5;241m.\u001b[39mtolist(), test_index\u001b[38;5;241m.\u001b[39mtolist()]\n\u001b[1;32m     19\u001b[0m \u001b[38;5;66;03m# start training using svm\u001b[39;00m\n\u001b[1;32m     20\u001b[0m \u001b[38;5;66;03m# svm_res = fit_libsvm(z_norm, y_b, kkv, kernel_fcn)\u001b[39;00m\n\u001b[0;32m---> 21\u001b[0m svm_res \u001b[38;5;241m=\u001b[39m \u001b[43mfit_matsvm\u001b[49m\u001b[43m(\u001b[49m\u001b[43mz_norm\u001b[49m\u001b[43m,\u001b[49m\u001b[43m \u001b[49m\u001b[43my_b\u001b[49m\u001b[43m,\u001b[49m\u001b[43m \u001b[49m\u001b[43mw\u001b[49m\u001b[43m[\u001b[49m\u001b[43m:\u001b[49m\u001b[43m,\u001b[49m\u001b[43m \u001b[49m\u001b[43mi\u001b[49m\u001b[43m]\u001b[49m\u001b[43m,\u001b[49m\u001b[43m \u001b[49m\u001b[43mskf\u001b[49m\u001b[43m,\u001b[49m\u001b[43m \u001b[49m\u001b[43mkernel_fcn\u001b[49m\u001b[43m,\u001b[49m\u001b[43m \u001b[49m\u001b[43mnp\u001b[49m\u001b[38;5;241;43m.\u001b[39;49m\u001b[43mnan\u001b[49m\u001b[43m)\u001b[49m\n",
      "Cell \u001b[0;32mIn[30], line 40\u001b[0m, in \u001b[0;36mfit_matsvm\u001b[0;34m(z, y, w, skf, kernel_given, params)\u001b[0m\n\u001b[1;32m     30\u001b[0m grid_search \u001b[38;5;241m=\u001b[39m GridSearchCV(\n\u001b[1;32m     31\u001b[0m     estimator\u001b[38;5;241m=\u001b[39msvm_model, \n\u001b[1;32m     32\u001b[0m     param_grid\u001b[38;5;241m=\u001b[39mparam_grid, \n\u001b[0;32m   (...)\u001b[0m\n\u001b[1;32m     36\u001b[0m     \u001b[38;5;66;03m#, n_jobs=nworkers if nworkers != 0 else None,\u001b[39;00m\n\u001b[1;32m     37\u001b[0m     )\n\u001b[1;32m     39\u001b[0m \u001b[38;5;66;03m# Fit GridSearchCV\u001b[39;00m\n\u001b[0;32m---> 40\u001b[0m \u001b[43mgrid_search\u001b[49m\u001b[38;5;241;43m.\u001b[39;49m\u001b[43mfit\u001b[49m\u001b[43m(\u001b[49m\u001b[43mz\u001b[49m\u001b[43m,\u001b[49m\u001b[43m \u001b[49m\u001b[43my\u001b[49m\u001b[43m,\u001b[49m\u001b[43m \u001b[49m\u001b[43msample_weight\u001b[49m\u001b[38;5;241;43m=\u001b[39;49m\u001b[43mw\u001b[49m\u001b[43m)\u001b[49m\n\u001b[1;32m     42\u001b[0m \u001b[38;5;66;03m# Retrieve the best model and hyperparameters\u001b[39;00m\n\u001b[1;32m     43\u001b[0m best_svm \u001b[38;5;241m=\u001b[39m grid_search\u001b[38;5;241m.\u001b[39mbest_estimator_\n",
      "File \u001b[0;32m~/opt/anaconda3/envs/new_env/lib/python3.9/site-packages/sklearn/base.py:1474\u001b[0m, in \u001b[0;36m_fit_context.<locals>.decorator.<locals>.wrapper\u001b[0;34m(estimator, *args, **kwargs)\u001b[0m\n\u001b[1;32m   <a href='file:///Users/sudiz/opt/anaconda3/envs/new_env/lib/python3.9/site-packages/sklearn/base.py?line=1466'>1467</a>\u001b[0m     estimator\u001b[39m.\u001b[39m_validate_params()\n\u001b[1;32m   <a href='file:///Users/sudiz/opt/anaconda3/envs/new_env/lib/python3.9/site-packages/sklearn/base.py?line=1468'>1469</a>\u001b[0m \u001b[39mwith\u001b[39;00m config_context(\n\u001b[1;32m   <a href='file:///Users/sudiz/opt/anaconda3/envs/new_env/lib/python3.9/site-packages/sklearn/base.py?line=1469'>1470</a>\u001b[0m     skip_parameter_validation\u001b[39m=\u001b[39m(\n\u001b[1;32m   <a href='file:///Users/sudiz/opt/anaconda3/envs/new_env/lib/python3.9/site-packages/sklearn/base.py?line=1470'>1471</a>\u001b[0m         prefer_skip_nested_validation \u001b[39mor\u001b[39;00m global_skip_validation\n\u001b[1;32m   <a href='file:///Users/sudiz/opt/anaconda3/envs/new_env/lib/python3.9/site-packages/sklearn/base.py?line=1471'>1472</a>\u001b[0m     )\n\u001b[1;32m   <a href='file:///Users/sudiz/opt/anaconda3/envs/new_env/lib/python3.9/site-packages/sklearn/base.py?line=1472'>1473</a>\u001b[0m ):\n\u001b[0;32m-> <a href='file:///Users/sudiz/opt/anaconda3/envs/new_env/lib/python3.9/site-packages/sklearn/base.py?line=1473'>1474</a>\u001b[0m     \u001b[39mreturn\u001b[39;00m fit_method(estimator, \u001b[39m*\u001b[39;49margs, \u001b[39m*\u001b[39;49m\u001b[39m*\u001b[39;49mkwargs)\n",
      "File \u001b[0;32m~/opt/anaconda3/envs/new_env/lib/python3.9/site-packages/sklearn/model_selection/_search.py:1008\u001b[0m, in \u001b[0;36mBaseSearchCV.fit\u001b[0;34m(self, X, y, **params)\u001b[0m\n\u001b[1;32m   <a href='file:///Users/sudiz/opt/anaconda3/envs/new_env/lib/python3.9/site-packages/sklearn/model_selection/_search.py?line=1005'>1006</a>\u001b[0m refit_start_time \u001b[39m=\u001b[39m time\u001b[39m.\u001b[39mtime()\n\u001b[1;32m   <a href='file:///Users/sudiz/opt/anaconda3/envs/new_env/lib/python3.9/site-packages/sklearn/model_selection/_search.py?line=1006'>1007</a>\u001b[0m \u001b[39mif\u001b[39;00m y \u001b[39mis\u001b[39;00m \u001b[39mnot\u001b[39;00m \u001b[39mNone\u001b[39;00m:\n\u001b[0;32m-> <a href='file:///Users/sudiz/opt/anaconda3/envs/new_env/lib/python3.9/site-packages/sklearn/model_selection/_search.py?line=1007'>1008</a>\u001b[0m     \u001b[39mself\u001b[39;49m\u001b[39m.\u001b[39;49mbest_estimator_\u001b[39m.\u001b[39;49mfit(X, y, \u001b[39m*\u001b[39;49m\u001b[39m*\u001b[39;49mrouted_params\u001b[39m.\u001b[39;49mestimator\u001b[39m.\u001b[39;49mfit)\n\u001b[1;32m   <a href='file:///Users/sudiz/opt/anaconda3/envs/new_env/lib/python3.9/site-packages/sklearn/model_selection/_search.py?line=1008'>1009</a>\u001b[0m \u001b[39melse\u001b[39;00m:\n\u001b[1;32m   <a href='file:///Users/sudiz/opt/anaconda3/envs/new_env/lib/python3.9/site-packages/sklearn/model_selection/_search.py?line=1009'>1010</a>\u001b[0m     \u001b[39mself\u001b[39m\u001b[39m.\u001b[39mbest_estimator_\u001b[39m.\u001b[39mfit(X, \u001b[39m*\u001b[39m\u001b[39m*\u001b[39mrouted_params\u001b[39m.\u001b[39mestimator\u001b[39m.\u001b[39mfit)\n",
      "File \u001b[0;32m~/opt/anaconda3/envs/new_env/lib/python3.9/site-packages/sklearn/base.py:1474\u001b[0m, in \u001b[0;36m_fit_context.<locals>.decorator.<locals>.wrapper\u001b[0;34m(estimator, *args, **kwargs)\u001b[0m\n\u001b[1;32m   <a href='file:///Users/sudiz/opt/anaconda3/envs/new_env/lib/python3.9/site-packages/sklearn/base.py?line=1466'>1467</a>\u001b[0m     estimator\u001b[39m.\u001b[39m_validate_params()\n\u001b[1;32m   <a href='file:///Users/sudiz/opt/anaconda3/envs/new_env/lib/python3.9/site-packages/sklearn/base.py?line=1468'>1469</a>\u001b[0m \u001b[39mwith\u001b[39;00m config_context(\n\u001b[1;32m   <a href='file:///Users/sudiz/opt/anaconda3/envs/new_env/lib/python3.9/site-packages/sklearn/base.py?line=1469'>1470</a>\u001b[0m     skip_parameter_validation\u001b[39m=\u001b[39m(\n\u001b[1;32m   <a href='file:///Users/sudiz/opt/anaconda3/envs/new_env/lib/python3.9/site-packages/sklearn/base.py?line=1470'>1471</a>\u001b[0m         prefer_skip_nested_validation \u001b[39mor\u001b[39;00m global_skip_validation\n\u001b[1;32m   <a href='file:///Users/sudiz/opt/anaconda3/envs/new_env/lib/python3.9/site-packages/sklearn/base.py?line=1471'>1472</a>\u001b[0m     )\n\u001b[1;32m   <a href='file:///Users/sudiz/opt/anaconda3/envs/new_env/lib/python3.9/site-packages/sklearn/base.py?line=1472'>1473</a>\u001b[0m ):\n\u001b[0;32m-> <a href='file:///Users/sudiz/opt/anaconda3/envs/new_env/lib/python3.9/site-packages/sklearn/base.py?line=1473'>1474</a>\u001b[0m     \u001b[39mreturn\u001b[39;00m fit_method(estimator, \u001b[39m*\u001b[39;49margs, \u001b[39m*\u001b[39;49m\u001b[39m*\u001b[39;49mkwargs)\n",
      "File \u001b[0;32m~/opt/anaconda3/envs/new_env/lib/python3.9/site-packages/sklearn/svm/_base.py:250\u001b[0m, in \u001b[0;36mBaseLibSVM.fit\u001b[0;34m(self, X, y, sample_weight)\u001b[0m\n\u001b[1;32m    <a href='file:///Users/sudiz/opt/anaconda3/envs/new_env/lib/python3.9/site-packages/sklearn/svm/_base.py?line=246'>247</a>\u001b[0m     \u001b[39mprint\u001b[39m(\u001b[39m\"\u001b[39m\u001b[39m[LibSVM]\u001b[39m\u001b[39m\"\u001b[39m, end\u001b[39m=\u001b[39m\u001b[39m\"\u001b[39m\u001b[39m\"\u001b[39m)\n\u001b[1;32m    <a href='file:///Users/sudiz/opt/anaconda3/envs/new_env/lib/python3.9/site-packages/sklearn/svm/_base.py?line=248'>249</a>\u001b[0m seed \u001b[39m=\u001b[39m rnd\u001b[39m.\u001b[39mrandint(np\u001b[39m.\u001b[39miinfo(\u001b[39m\"\u001b[39m\u001b[39mi\u001b[39m\u001b[39m\"\u001b[39m)\u001b[39m.\u001b[39mmax)\n\u001b[0;32m--> <a href='file:///Users/sudiz/opt/anaconda3/envs/new_env/lib/python3.9/site-packages/sklearn/svm/_base.py?line=249'>250</a>\u001b[0m fit(X, y, sample_weight, solver_type, kernel, random_seed\u001b[39m=\u001b[39;49mseed)\n\u001b[1;32m    <a href='file:///Users/sudiz/opt/anaconda3/envs/new_env/lib/python3.9/site-packages/sklearn/svm/_base.py?line=250'>251</a>\u001b[0m \u001b[39m# see comment on the other call to np.iinfo in this file\u001b[39;00m\n\u001b[1;32m    <a href='file:///Users/sudiz/opt/anaconda3/envs/new_env/lib/python3.9/site-packages/sklearn/svm/_base.py?line=252'>253</a>\u001b[0m \u001b[39mself\u001b[39m\u001b[39m.\u001b[39mshape_fit_ \u001b[39m=\u001b[39m X\u001b[39m.\u001b[39mshape \u001b[39mif\u001b[39;00m \u001b[39mhasattr\u001b[39m(X, \u001b[39m\"\u001b[39m\u001b[39mshape\u001b[39m\u001b[39m\"\u001b[39m) \u001b[39melse\u001b[39;00m (n_samples,)\n",
      "File \u001b[0;32m~/opt/anaconda3/envs/new_env/lib/python3.9/site-packages/sklearn/svm/_base.py:329\u001b[0m, in \u001b[0;36mBaseLibSVM._dense_fit\u001b[0;34m(self, X, y, sample_weight, solver_type, kernel, random_seed)\u001b[0m\n\u001b[1;32m    <a href='file:///Users/sudiz/opt/anaconda3/envs/new_env/lib/python3.9/site-packages/sklearn/svm/_base.py?line=314'>315</a>\u001b[0m libsvm\u001b[39m.\u001b[39mset_verbosity_wrap(\u001b[39mself\u001b[39m\u001b[39m.\u001b[39mverbose)\n\u001b[1;32m    <a href='file:///Users/sudiz/opt/anaconda3/envs/new_env/lib/python3.9/site-packages/sklearn/svm/_base.py?line=316'>317</a>\u001b[0m \u001b[39m# we don't pass **self.get_params() to allow subclasses to\u001b[39;00m\n\u001b[1;32m    <a href='file:///Users/sudiz/opt/anaconda3/envs/new_env/lib/python3.9/site-packages/sklearn/svm/_base.py?line=317'>318</a>\u001b[0m \u001b[39m# add other parameters to __init__\u001b[39;00m\n\u001b[1;32m    <a href='file:///Users/sudiz/opt/anaconda3/envs/new_env/lib/python3.9/site-packages/sklearn/svm/_base.py?line=318'>319</a>\u001b[0m (\n\u001b[1;32m    <a href='file:///Users/sudiz/opt/anaconda3/envs/new_env/lib/python3.9/site-packages/sklearn/svm/_base.py?line=319'>320</a>\u001b[0m     \u001b[39mself\u001b[39m\u001b[39m.\u001b[39msupport_,\n\u001b[1;32m    <a href='file:///Users/sudiz/opt/anaconda3/envs/new_env/lib/python3.9/site-packages/sklearn/svm/_base.py?line=320'>321</a>\u001b[0m     \u001b[39mself\u001b[39m\u001b[39m.\u001b[39msupport_vectors_,\n\u001b[1;32m    <a href='file:///Users/sudiz/opt/anaconda3/envs/new_env/lib/python3.9/site-packages/sklearn/svm/_base.py?line=321'>322</a>\u001b[0m     \u001b[39mself\u001b[39m\u001b[39m.\u001b[39m_n_support,\n\u001b[1;32m    <a href='file:///Users/sudiz/opt/anaconda3/envs/new_env/lib/python3.9/site-packages/sklearn/svm/_base.py?line=322'>323</a>\u001b[0m     \u001b[39mself\u001b[39m\u001b[39m.\u001b[39mdual_coef_,\n\u001b[1;32m    <a href='file:///Users/sudiz/opt/anaconda3/envs/new_env/lib/python3.9/site-packages/sklearn/svm/_base.py?line=323'>324</a>\u001b[0m     \u001b[39mself\u001b[39m\u001b[39m.\u001b[39mintercept_,\n\u001b[1;32m    <a href='file:///Users/sudiz/opt/anaconda3/envs/new_env/lib/python3.9/site-packages/sklearn/svm/_base.py?line=324'>325</a>\u001b[0m     \u001b[39mself\u001b[39m\u001b[39m.\u001b[39m_probA,\n\u001b[1;32m    <a href='file:///Users/sudiz/opt/anaconda3/envs/new_env/lib/python3.9/site-packages/sklearn/svm/_base.py?line=325'>326</a>\u001b[0m     \u001b[39mself\u001b[39m\u001b[39m.\u001b[39m_probB,\n\u001b[1;32m    <a href='file:///Users/sudiz/opt/anaconda3/envs/new_env/lib/python3.9/site-packages/sklearn/svm/_base.py?line=326'>327</a>\u001b[0m     \u001b[39mself\u001b[39m\u001b[39m.\u001b[39mfit_status_,\n\u001b[1;32m    <a href='file:///Users/sudiz/opt/anaconda3/envs/new_env/lib/python3.9/site-packages/sklearn/svm/_base.py?line=327'>328</a>\u001b[0m     \u001b[39mself\u001b[39m\u001b[39m.\u001b[39m_num_iter,\n\u001b[0;32m--> <a href='file:///Users/sudiz/opt/anaconda3/envs/new_env/lib/python3.9/site-packages/sklearn/svm/_base.py?line=328'>329</a>\u001b[0m ) \u001b[39m=\u001b[39m libsvm\u001b[39m.\u001b[39;49mfit(\n\u001b[1;32m    <a href='file:///Users/sudiz/opt/anaconda3/envs/new_env/lib/python3.9/site-packages/sklearn/svm/_base.py?line=329'>330</a>\u001b[0m     X,\n\u001b[1;32m    <a href='file:///Users/sudiz/opt/anaconda3/envs/new_env/lib/python3.9/site-packages/sklearn/svm/_base.py?line=330'>331</a>\u001b[0m     y,\n\u001b[1;32m    <a href='file:///Users/sudiz/opt/anaconda3/envs/new_env/lib/python3.9/site-packages/sklearn/svm/_base.py?line=331'>332</a>\u001b[0m     svm_type\u001b[39m=\u001b[39;49msolver_type,\n\u001b[1;32m    <a href='file:///Users/sudiz/opt/anaconda3/envs/new_env/lib/python3.9/site-packages/sklearn/svm/_base.py?line=332'>333</a>\u001b[0m     sample_weight\u001b[39m=\u001b[39;49msample_weight,\n\u001b[1;32m    <a href='file:///Users/sudiz/opt/anaconda3/envs/new_env/lib/python3.9/site-packages/sklearn/svm/_base.py?line=333'>334</a>\u001b[0m     class_weight\u001b[39m=\u001b[39;49m\u001b[39mgetattr\u001b[39;49m(\u001b[39mself\u001b[39;49m, \u001b[39m\"\u001b[39;49m\u001b[39mclass_weight_\u001b[39;49m\u001b[39m\"\u001b[39;49m, np\u001b[39m.\u001b[39;49mempty(\u001b[39m0\u001b[39;49m)),\n\u001b[1;32m    <a href='file:///Users/sudiz/opt/anaconda3/envs/new_env/lib/python3.9/site-packages/sklearn/svm/_base.py?line=334'>335</a>\u001b[0m     kernel\u001b[39m=\u001b[39;49mkernel,\n\u001b[1;32m    <a href='file:///Users/sudiz/opt/anaconda3/envs/new_env/lib/python3.9/site-packages/sklearn/svm/_base.py?line=335'>336</a>\u001b[0m     C\u001b[39m=\u001b[39;49m\u001b[39mself\u001b[39;49m\u001b[39m.\u001b[39;49mC,\n\u001b[1;32m    <a href='file:///Users/sudiz/opt/anaconda3/envs/new_env/lib/python3.9/site-packages/sklearn/svm/_base.py?line=336'>337</a>\u001b[0m     nu\u001b[39m=\u001b[39;49m\u001b[39mself\u001b[39;49m\u001b[39m.\u001b[39;49mnu,\n\u001b[1;32m    <a href='file:///Users/sudiz/opt/anaconda3/envs/new_env/lib/python3.9/site-packages/sklearn/svm/_base.py?line=337'>338</a>\u001b[0m     probability\u001b[39m=\u001b[39;49m\u001b[39mself\u001b[39;49m\u001b[39m.\u001b[39;49mprobability,\n\u001b[1;32m    <a href='file:///Users/sudiz/opt/anaconda3/envs/new_env/lib/python3.9/site-packages/sklearn/svm/_base.py?line=338'>339</a>\u001b[0m     degree\u001b[39m=\u001b[39;49m\u001b[39mself\u001b[39;49m\u001b[39m.\u001b[39;49mdegree,\n\u001b[1;32m    <a href='file:///Users/sudiz/opt/anaconda3/envs/new_env/lib/python3.9/site-packages/sklearn/svm/_base.py?line=339'>340</a>\u001b[0m     shrinking\u001b[39m=\u001b[39;49m\u001b[39mself\u001b[39;49m\u001b[39m.\u001b[39;49mshrinking,\n\u001b[1;32m    <a href='file:///Users/sudiz/opt/anaconda3/envs/new_env/lib/python3.9/site-packages/sklearn/svm/_base.py?line=340'>341</a>\u001b[0m     tol\u001b[39m=\u001b[39;49m\u001b[39mself\u001b[39;49m\u001b[39m.\u001b[39;49mtol,\n\u001b[1;32m    <a href='file:///Users/sudiz/opt/anaconda3/envs/new_env/lib/python3.9/site-packages/sklearn/svm/_base.py?line=341'>342</a>\u001b[0m     cache_size\u001b[39m=\u001b[39;49m\u001b[39mself\u001b[39;49m\u001b[39m.\u001b[39;49mcache_size,\n\u001b[1;32m    <a href='file:///Users/sudiz/opt/anaconda3/envs/new_env/lib/python3.9/site-packages/sklearn/svm/_base.py?line=342'>343</a>\u001b[0m     coef0\u001b[39m=\u001b[39;49m\u001b[39mself\u001b[39;49m\u001b[39m.\u001b[39;49mcoef0,\n\u001b[1;32m    <a href='file:///Users/sudiz/opt/anaconda3/envs/new_env/lib/python3.9/site-packages/sklearn/svm/_base.py?line=343'>344</a>\u001b[0m     gamma\u001b[39m=\u001b[39;49m\u001b[39mself\u001b[39;49m\u001b[39m.\u001b[39;49m_gamma,\n\u001b[1;32m    <a href='file:///Users/sudiz/opt/anaconda3/envs/new_env/lib/python3.9/site-packages/sklearn/svm/_base.py?line=344'>345</a>\u001b[0m     epsilon\u001b[39m=\u001b[39;49m\u001b[39mself\u001b[39;49m\u001b[39m.\u001b[39;49mepsilon,\n\u001b[1;32m    <a href='file:///Users/sudiz/opt/anaconda3/envs/new_env/lib/python3.9/site-packages/sklearn/svm/_base.py?line=345'>346</a>\u001b[0m     max_iter\u001b[39m=\u001b[39;49m\u001b[39mself\u001b[39;49m\u001b[39m.\u001b[39;49mmax_iter,\n\u001b[1;32m    <a href='file:///Users/sudiz/opt/anaconda3/envs/new_env/lib/python3.9/site-packages/sklearn/svm/_base.py?line=346'>347</a>\u001b[0m     random_seed\u001b[39m=\u001b[39;49mrandom_seed,\n\u001b[1;32m    <a href='file:///Users/sudiz/opt/anaconda3/envs/new_env/lib/python3.9/site-packages/sklearn/svm/_base.py?line=347'>348</a>\u001b[0m )\n\u001b[1;32m    <a href='file:///Users/sudiz/opt/anaconda3/envs/new_env/lib/python3.9/site-packages/sklearn/svm/_base.py?line=349'>350</a>\u001b[0m \u001b[39mself\u001b[39m\u001b[39m.\u001b[39m_warn_from_fit_status()\n",
      "File \u001b[0;32msklearn/svm/_libsvm.pyx:65\u001b[0m, in \u001b[0;36msklearn.svm._libsvm.fit\u001b[0;34m()\u001b[0m\n",
      "File \u001b[0;32m<stringsource>:663\u001b[0m, in \u001b[0;36mView.MemoryView.memoryview_cwrapper\u001b[0;34m()\u001b[0m\n",
      "File \u001b[0;32m<stringsource>:353\u001b[0m, in \u001b[0;36mView.MemoryView.memoryview.__cinit__\u001b[0;34m()\u001b[0m\n",
      "\u001b[0;31mValueError\u001b[0m: ndarray is not C-contiguous"
     ]
    }
   ],
   "source": [
    "t = TicToc()\n",
    "t.tic()\n",
    "\n",
    "for i in range(nalgos):\n",
    "    t_inner = TicToc()\n",
    "    t_inner.tic()\n",
    "\n",
    "    state = np.random.get_state()\n",
    "    np.random.seed(0)  # equivalent to MATLAB's rng('default') ?\n",
    "\n",
    "    # REQUIRE: Test case for validation the result\n",
    "    # y_b = [row[i] for row in y]\n",
    "    y_b = y[:, i]\n",
    "    skf = StratifiedKFold(n_splits = opts_csv_fold, shuffle = True, random_state = 0)\n",
    "    \n",
    "    kkv= dict()\n",
    "    for i, (train_index, test_index) in enumerate(skf.split(np.zeros(len(y_b)), y_b)):\n",
    "        kkv[i] = [train_index.tolist(), test_index.tolist()]\n",
    "    # start training using svm\n",
    "    # svm_res = fit_libsvm(z_norm, y_b, kkv, kernel_fcn)\n",
    "    svm_res = fit_matsvm(z_norm, y_b, w[:, i], skf, kernel_fcn, np.nan)\n",
    "    \n",
    "# visualise accuracy score\n",
    "# for k, v in svm_res.items():\n",
    "#     print(f'{k} fold: accuracy score = {v}')\n",
    "\n",
    "    "
   ]
  }
 ],
 "metadata": {
  "interpreter": {
   "hash": "c8d4e9334dcc093c5455b6f55ea09f9028125097d0b5d072b5d027a0ea5ecbe2"
  },
  "kernelspec": {
   "display_name": "Python 3.9.19 ('new_env')",
   "language": "python",
   "name": "python3"
  },
  "language_info": {
   "codemirror_mode": {
    "name": "ipython",
    "version": 3
   },
   "file_extension": ".py",
   "mimetype": "text/x-python",
   "name": "python",
   "nbconvert_exporter": "python",
   "pygments_lexer": "ipython3",
   "version": "3.9.19"
  }
 },
 "nbformat": 4,
 "nbformat_minor": 2
}
