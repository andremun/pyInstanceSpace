{
 "cells": [
  {
   "cell_type": "markdown",
   "metadata": {},
   "source": [
    "### Library and data needed"
   ]
  },
  {
   "cell_type": "code",
   "execution_count": 50,
   "metadata": {},
   "outputs": [],
   "source": [
    "import os\n",
    "import pandas as pd\n",
    "import numpy as np\n",
    "from scipy.stats import pearsonr\n",
    "from sklearn.cluster import KMeans\n",
    "from sklearn.metrics import silhouette_score"
   ]
  },
  {
   "cell_type": "code",
   "execution_count": 51,
   "metadata": {},
   "outputs": [],
   "source": [
    "opts_k = 10\n",
    "opts_rho = 0.1\n",
    "opts_replicates = 100\n",
    "opts_maxiter = 1000\n",
    "np.random.seed(0)\n"
   ]
  },
  {
   "cell_type": "markdown",
   "metadata": {},
   "source": [
    "### Preprocessing : Read file and prepare input "
   ]
  },
  {
   "cell_type": "code",
   "execution_count": 52,
   "metadata": {},
   "outputs": [],
   "source": [
    "# # reading file\n",
    "os.chdir('../backend')\n",
    "x = pd.read_csv(os.getcwd() + \"/x.csv\", header=None)\n",
    "y = pd.read_csv(os.getcwd() + \"/y.csv\", header=None)"
   ]
  },
  {
   "cell_type": "code",
   "execution_count": 53,
   "metadata": {},
   "outputs": [],
   "source": [
    "# Skip feature selection if <= 3 features and all features are kept\n",
    "if x.shape[1] <= 3:\n",
    "    print(\"There are 3 or less features to do selection. Skipping feature selection.\")\n",
    "    # TODO: return the desire output format\n",
    "elif x.shape[1] <= 1:\n",
    "    print(\"There is only 1 feature. Stopping space construction.\")\n",
    "    # TODO: return the desire output format\n",
    "    \n",
    "n_feature = x.shape[1]"
   ]
  },
  {
   "cell_type": "markdown",
   "metadata": {},
   "source": [
    "### Features Selection (Correlation Based): Line 39-53)\n"
   ]
  },
  {
   "cell_type": "code",
   "execution_count": 54,
   "metadata": {},
   "outputs": [],
   "source": [
    "# Initialize empty matrices for correlation coefficients and p-values\n",
    "corr_matrix = pd.DataFrame(index=x.columns, columns=y.columns)\n",
    "p_value_matrix = pd.DataFrame(index=x.columns, columns=y.columns)\n",
    "\n",
    "# Compute correlation coefficient and p-value for each pair of variables\n",
    "for x_col in x.columns:\n",
    "    for y_col in y.columns:\n",
    "        corr_coef, p_value = pearsonr(x[x_col], y[y_col])\n",
    "        # assign correlation value to 0 so that it can be filtered later\n",
    "        if p_value > 0.05:\n",
    "            corr_matrix.loc[x_col, y_col] = 0    \n",
    "        else:\n",
    "            corr_matrix.loc[x_col, y_col] = corr_coef\n",
    "corr_matrix = abs(corr_matrix)\n",
    "\n",
    "# TODO: testing: check corr_matrix (manual check pass)"
   ]
  },
  {
   "cell_type": "code",
   "execution_count": 55,
   "metadata": {},
   "outputs": [
    {
     "data": {
      "text/html": [
       "<div>\n",
       "<style scoped>\n",
       "    .dataframe tbody tr th:only-of-type {\n",
       "        vertical-align: middle;\n",
       "    }\n",
       "\n",
       "    .dataframe tbody tr th {\n",
       "        vertical-align: top;\n",
       "    }\n",
       "\n",
       "    .dataframe thead th {\n",
       "        text-align: right;\n",
       "    }\n",
       "</style>\n",
       "<table border=\"1\" class=\"dataframe\">\n",
       "  <thead>\n",
       "    <tr style=\"text-align: right;\">\n",
       "      <th></th>\n",
       "      <th>0</th>\n",
       "      <th>1</th>\n",
       "      <th>2</th>\n",
       "      <th>3</th>\n",
       "      <th>4</th>\n",
       "      <th>5</th>\n",
       "      <th>6</th>\n",
       "      <th>7</th>\n",
       "      <th>8</th>\n",
       "      <th>9</th>\n",
       "    </tr>\n",
       "  </thead>\n",
       "  <tbody>\n",
       "    <tr>\n",
       "      <th>0</th>\n",
       "      <td>0</td>\n",
       "      <td>0.16947</td>\n",
       "      <td>0</td>\n",
       "      <td>0.15147</td>\n",
       "      <td>0</td>\n",
       "      <td>0</td>\n",
       "      <td>0</td>\n",
       "      <td>0</td>\n",
       "      <td>0</td>\n",
       "      <td>0</td>\n",
       "    </tr>\n",
       "    <tr>\n",
       "      <th>1</th>\n",
       "      <td>0.183991</td>\n",
       "      <td>0.30404</td>\n",
       "      <td>0.603926</td>\n",
       "      <td>0.162437</td>\n",
       "      <td>0</td>\n",
       "      <td>0</td>\n",
       "      <td>0</td>\n",
       "      <td>0.157502</td>\n",
       "      <td>0</td>\n",
       "      <td>0.188585</td>\n",
       "    </tr>\n",
       "    <tr>\n",
       "      <th>2</th>\n",
       "      <td>0.515083</td>\n",
       "      <td>0.216131</td>\n",
       "      <td>0</td>\n",
       "      <td>0.328626</td>\n",
       "      <td>0.370241</td>\n",
       "      <td>0.511744</td>\n",
       "      <td>0.427149</td>\n",
       "      <td>0.36599</td>\n",
       "      <td>0.460169</td>\n",
       "      <td>0.296477</td>\n",
       "    </tr>\n",
       "    <tr>\n",
       "      <th>3</th>\n",
       "      <td>0.508291</td>\n",
       "      <td>0.464738</td>\n",
       "      <td>0.357001</td>\n",
       "      <td>0.564691</td>\n",
       "      <td>0.526048</td>\n",
       "      <td>0.496176</td>\n",
       "      <td>0.522701</td>\n",
       "      <td>0.682551</td>\n",
       "      <td>0.537335</td>\n",
       "      <td>0.390996</td>\n",
       "    </tr>\n",
       "    <tr>\n",
       "      <th>4</th>\n",
       "      <td>0.186968</td>\n",
       "      <td>0.288352</td>\n",
       "      <td>0.233814</td>\n",
       "      <td>0.379854</td>\n",
       "      <td>0.352313</td>\n",
       "      <td>0.324384</td>\n",
       "      <td>0.307727</td>\n",
       "      <td>0.427858</td>\n",
       "      <td>0.371381</td>\n",
       "      <td>0.259739</td>\n",
       "    </tr>\n",
       "    <tr>\n",
       "      <th>5</th>\n",
       "      <td>0.538544</td>\n",
       "      <td>0.162534</td>\n",
       "      <td>0</td>\n",
       "      <td>0.507152</td>\n",
       "      <td>0.54086</td>\n",
       "      <td>0.519021</td>\n",
       "      <td>0.485531</td>\n",
       "      <td>0.462534</td>\n",
       "      <td>0.468816</td>\n",
       "      <td>0.346111</td>\n",
       "    </tr>\n",
       "    <tr>\n",
       "      <th>6</th>\n",
       "      <td>0.327107</td>\n",
       "      <td>0.158215</td>\n",
       "      <td>0</td>\n",
       "      <td>0.376153</td>\n",
       "      <td>0.390311</td>\n",
       "      <td>0.408971</td>\n",
       "      <td>0.40457</td>\n",
       "      <td>0.369844</td>\n",
       "      <td>0.354679</td>\n",
       "      <td>0.280685</td>\n",
       "    </tr>\n",
       "    <tr>\n",
       "      <th>7</th>\n",
       "      <td>0.623523</td>\n",
       "      <td>0.444072</td>\n",
       "      <td>0</td>\n",
       "      <td>0.658937</td>\n",
       "      <td>0.658274</td>\n",
       "      <td>0.667203</td>\n",
       "      <td>0.745088</td>\n",
       "      <td>0.709117</td>\n",
       "      <td>0.727195</td>\n",
       "      <td>0.502527</td>\n",
       "    </tr>\n",
       "    <tr>\n",
       "      <th>8</th>\n",
       "      <td>0.713447</td>\n",
       "      <td>0.475969</td>\n",
       "      <td>0.141597</td>\n",
       "      <td>0.812574</td>\n",
       "      <td>0.82579</td>\n",
       "      <td>0.88434</td>\n",
       "      <td>0.795783</td>\n",
       "      <td>0.784334</td>\n",
       "      <td>0.825643</td>\n",
       "      <td>0.643079</td>\n",
       "    </tr>\n",
       "    <tr>\n",
       "      <th>9</th>\n",
       "      <td>0.496212</td>\n",
       "      <td>0.184281</td>\n",
       "      <td>0</td>\n",
       "      <td>0.354537</td>\n",
       "      <td>0.385519</td>\n",
       "      <td>0.39823</td>\n",
       "      <td>0.466231</td>\n",
       "      <td>0.307199</td>\n",
       "      <td>0.417937</td>\n",
       "      <td>0.330138</td>\n",
       "    </tr>\n",
       "  </tbody>\n",
       "</table>\n",
       "</div>"
      ],
      "text/plain": [
       "          0         1         2         3         4         5         6  \\\n",
       "0         0   0.16947         0   0.15147         0         0         0   \n",
       "1  0.183991   0.30404  0.603926  0.162437         0         0         0   \n",
       "2  0.515083  0.216131         0  0.328626  0.370241  0.511744  0.427149   \n",
       "3  0.508291  0.464738  0.357001  0.564691  0.526048  0.496176  0.522701   \n",
       "4  0.186968  0.288352  0.233814  0.379854  0.352313  0.324384  0.307727   \n",
       "5  0.538544  0.162534         0  0.507152   0.54086  0.519021  0.485531   \n",
       "6  0.327107  0.158215         0  0.376153  0.390311  0.408971   0.40457   \n",
       "7  0.623523  0.444072         0  0.658937  0.658274  0.667203  0.745088   \n",
       "8  0.713447  0.475969  0.141597  0.812574   0.82579   0.88434  0.795783   \n",
       "9  0.496212  0.184281         0  0.354537  0.385519   0.39823  0.466231   \n",
       "\n",
       "          7         8         9  \n",
       "0         0         0         0  \n",
       "1  0.157502         0  0.188585  \n",
       "2   0.36599  0.460169  0.296477  \n",
       "3  0.682551  0.537335  0.390996  \n",
       "4  0.427858  0.371381  0.259739  \n",
       "5  0.462534  0.468816  0.346111  \n",
       "6  0.369844  0.354679  0.280685  \n",
       "7  0.709117  0.727195  0.502527  \n",
       "8  0.784334  0.825643  0.643079  \n",
       "9  0.307199  0.417937  0.330138  "
      ]
     },
     "execution_count": 55,
     "metadata": {},
     "output_type": "execute_result"
    }
   ],
   "source": [
    "corr_matrix"
   ]
  },
  {
   "cell_type": "code",
   "execution_count": 56,
   "metadata": {},
   "outputs": [
    {
     "data": {
      "text/plain": [
       "(212, 10)"
      ]
     },
     "execution_count": 56,
     "metadata": {},
     "output_type": "execute_result"
    }
   ],
   "source": [
    "# choose features with correlatiton value over 0.01 (specified in options.json)\n",
    "# filter out x values with selected feature\n",
    "for column in corr_matrix.columns:\n",
    "    corr_matrix[column] = corr_matrix[column].apply(lambda x: 0 if x < opts_rho else x)\n",
    "\n",
    "# choose features (only choose feautres that all correlation value >= opts_rho)\n",
    "features_selected = []\n",
    "for index, row in corr_matrix.iterrows():\n",
    "    if (row != 0).any():\n",
    "        features_selected.append(index)\n",
    "        \n",
    "x_aux = x.iloc[:,features_selected]\n",
    "# TODO: test, compare xaux \n",
    "x_aux.shape"
   ]
  },
  {
   "cell_type": "markdown",
   "metadata": {},
   "source": [
    "### K-means Clustering (Line 69-95)"
   ]
  },
  {
   "cell_type": "markdown",
   "metadata": {},
   "source": [
    "- Applies k-means clustering algorithm to Xaux\n",
    "- Evaluates sihouette values for different number of clusters\n",
    "- Output -> (1) inspected num of clusters, (2) corresponding criterion values\n",
    "- Checks, if sihouette value for specified number of clusters is below 0.5 (sihouette value is  a measure of how similar an object is to its own cluster (cohesion) compared to other clusters (separation), the range is -1 to 1)\n",
    "    - we do average sihouette value for each cluster\n",
    "    - if ASV is < 0.5 ==> poor cluster quality and suggest increasing opts.K. Or it will find a value of K that yields sihouette value above 7.5, if available\n",
    "- After checking sihouette value, do k-mean clustering"
   ]
  },
  {
   "cell_type": "markdown",
   "metadata": {},
   "source": [
    "***Steps***\n",
    "1. construct kmc and compute silhouette_score for chosen k clusters\n",
    "2. repeat step 1 for k clusters value ranging from 3 to n_feature\n",
    "3. display average of silhouette score based on k clusters\n",
    "3. report if your chosen k-mean based on options.json is lower than 0.5\n",
    "    - if lower than 0.5, based on step 2, find the best k clusters that has silhouette score higher than 7.5"
   ]
  },
  {
   "cell_type": "markdown",
   "metadata": {},
   "source": [
    "***k clusters***\n",
    "- using k value from options.json, do kmc"
   ]
  },
  {
   "cell_type": "code",
   "execution_count": 57,
   "metadata": {},
   "outputs": [
    {
     "name": "stdout",
     "output_type": "stream",
     "text": [
      "-> Average silhouette values for each number of clusters.\n",
      "Number of clusters: 3, Silhouette score: 0.4059232471018759\n",
      "Number of clusters: 4, Silhouette score: 0.34508112245767003\n",
      "Number of clusters: 5, Silhouette score: 0.3543138996675518\n",
      "Number of clusters: 6, Silhouette score: 0.3576262008062844\n",
      "Number of clusters: 7, Silhouette score: 0.30190541309710284\n",
      "Number of clusters: 8, Silhouette score: 0.2747242666978954\n",
      "Number of clusters: 9, Silhouette score: 0.2682247181262402\n",
      "Number of clusters: 10, Silhouette score: 0.2715311894295123\n",
      "-> The silhouette value for K=10 is below 0.5. You should consider increasing K.\n",
      "No suggested value of K\n"
     ]
    }
   ],
   "source": [
    "# Initialize empty dictionary to store silhouette scores\n",
    "silhouette_scores = {}\n",
    "\n",
    "# Range of cluster numbers to evaluate\n",
    "min_clusters = 3\n",
    "max_clusters = n_feature  # Assuming nfeats is defined\n",
    "cluster_range = range(min_clusters, max_clusters + 1)\n",
    "\n",
    "# # Evaluating silhouette scores for different numbers of clusters\n",
    "for n_clusters in cluster_range:\n",
    "    kmeans = KMeans(n_clusters=n_clusters, n_init = n_clusters, random_state=0)\n",
    "    cluster_labels = kmeans.fit_predict(x_aux)  # Transpose Xaux for clustering\n",
    "    silhouette_scores[n_clusters] = silhouette_score(x_aux, cluster_labels, metric='correlation')\n",
    "\n",
    "# Displaying average silhouette values for each number of clusters\n",
    "print('-> Average silhouette values for each number of clusters.')\n",
    "for n_clusters, silhouette_score in silhouette_scores.items():\n",
    "    print(f\"Number of clusters: {n_clusters}, Silhouette score: {silhouette_score}\")\n",
    "\n",
    "# Checking silhouette value for opts.K\n",
    "if silhouette_scores[opts_k] < 0.5:\n",
    "    print(f'-> The silhouette value for K={opts_k} is below 0.5. You should consider increasing K.')\n",
    "    K_suggested = next((k for k, score in silhouette_scores.items() if score > 0.75), None)\n",
    "    if K_suggested is not None:\n",
    "        print(f'A suggested value of K is {K_suggested}.')\n",
    "    else:\n",
    "        print(f'No suggested value of K')\n",
    "# TODO: silhouette score is way different, perhaps the x_aux is very different"
   ]
  },
  {
   "cell_type": "markdown",
   "metadata": {},
   "source": []
  },
  {
   "cell_type": "code",
   "execution_count": 58,
   "metadata": {},
   "outputs": [
    {
     "data": {
      "text/plain": [
       "(10, 212)"
      ]
     },
     "execution_count": 58,
     "metadata": {},
     "output_type": "execute_result"
    }
   ],
   "source": [
    "x_aux.T.shape"
   ]
  },
  {
   "cell_type": "code",
   "execution_count": 69,
   "metadata": {},
   "outputs": [
    {
     "data": {
      "text/plain": [
       "array([4, 6, 3, 7, 2, 0, 8, 1, 9, 5], dtype=int32)"
      ]
     },
     "execution_count": 69,
     "metadata": {},
     "output_type": "execute_result"
    }
   ],
   "source": [
    "# Do k means with k value defined in options.json\n",
    "kmeans = KMeans(n_clusters=opts_k, \n",
    "                init='k-means++',\n",
    "                n_init=opts_replicates,\n",
    "                max_iter=opts_maxiter,\n",
    "                random_state=0)\n",
    "predict = kmeans.fit_predict(x_aux.T)  # Transpose Xaux for clustering\n",
    "predict\n",
    "# labels = kmeans.labels_\n",
    "# out_clust = np.zeros((opts_k, x_aux.T.shape[0]), dtype=bool)\n",
    "# out_clust.shape\n",
    "\n",
    "# # Populate out.clust based on the cluster labels\n",
    "# for i in range(opts_k):\n",
    "#     out_clust[i, :] = labels == i\n",
    "\n",
    "# # Transpose out.clust to match MATLAB's behavior\n",
    "# c = out_clust.T"
   ]
  },
  {
   "cell_type": "markdown",
   "metadata": {},
   "source": [
    "## Choosing Combinations "
   ]
  },
  {
   "cell_type": "markdown",
   "metadata": {},
   "source": [
    "- [X1,X2,X3,X4,X5,X6,X7,X8,X9,X10] = ndgrid(find(out.clust(:,1)),find(out.clust(:,2)),find(out.clust(:,3)),find(out.clust(:,4)),find(out.clust(:,5)),find(out.clust(:,6)),find(out.clust(:,7)),find(out.clust(:,8)),find(out.clust(:,9)),find(out.clust(:,10))); = \n",
    "\n",
    "- comb = [X1(:),X2(:),X3(:),X4(:),X5(:),X6(:),X7(:),X8(:),X9(:),X10(:)]; = \n",
    "\n",
    "- ncomb = size(comb,1); %#ok<*NODEF>\n",
    "- comb = sort(comb,2);"
   ]
  },
  {
   "cell_type": "code",
   "execution_count": null,
   "metadata": {},
   "outputs": [],
   "source": [
    "# Initialize variables\n",
    "X = []\n",
    "find_commands = []\n",
    "\n",
    "# Generate X variables and find commands\n",
    "for i in range(1, opts.K + 1):\n",
    "    X_var = f'X{i}'\n",
    "    find_command = f'find(out.clust[:, {i}])'\n",
    "    X.append(X_var)\n",
    "    find_commands.append(find_command)\n",
    "\n",
    "# Execute find commands and assign to X variables\n",
    "X_vars = np.meshgrid(*[eval(command) for command in find_commands])\n",
    "\n",
    "# Combine X variables\n",
    "comb = np.column_stack([X_var.ravel() for X_var in X_vars])\n",
    "\n",
    "# Calculate number of combinations\n",
    "ncomb = comb.shape[0]\n",
    "\n",
    "# Sort combinations\n",
    "comb.sort(axis=1)\n",
    "\n",
    "print(f'-> {ncomb} valid feature combinations.')\n"
   ]
  }
 ],
 "metadata": {
  "kernelspec": {
   "display_name": "Python 3",
   "language": "python",
   "name": "python3"
  },
  "language_info": {
   "codemirror_mode": {
    "name": "ipython",
    "version": 3
   },
   "file_extension": ".py",
   "mimetype": "text/x-python",
   "name": "python",
   "nbconvert_exporter": "python",
   "pygments_lexer": "ipython3",
   "version": "3.11.5"
  }
 },
 "nbformat": 4,
 "nbformat_minor": 2
}
