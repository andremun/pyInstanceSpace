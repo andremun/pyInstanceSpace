{
 "cells": [
  {
   "cell_type": "code",
   "execution_count": 1,
   "metadata": {},
   "outputs": [],
   "source": [
    "import numpy as np\n",
    "import pandas as pd\n",
    "from numpy.typing import NDArray\n",
    "from sklearn.model_selection import StratifiedKFold\n",
    "from sklearn.svm import SVC\n",
    "from skopt import BayesSearchCV\n",
    "from skopt.space import Real"
   ]
  },
  {
   "cell_type": "code",
   "execution_count": 2,
   "metadata": {},
   "outputs": [
    {
     "data": {
      "text/plain": [
       "'Things that need to prepare for the input.\\n    z_norm, y_bin, w_aux, cp, kernel_fcn, params\\n\\n    cp is StratifiedKFold\\n    StratifiedKFold(n_splits=opts.cv_folds, shuffle=True, random_state = 0)\\n\\n    cv_folds\\n'"
      ]
     },
     "execution_count": 2,
     "metadata": {},
     "output_type": "execute_result"
    }
   ],
   "source": [
    "\"\"\"Things that need to prepare for the input.\n",
    "    z_norm, y_bin, w_aux, cp, kernel_fcn, params\n",
    "\n",
    "    cp is StratifiedKFold\n",
    "    StratifiedKFold(n_splits=opts.cv_folds, shuffle=True, random_state = 0)\n",
    "\n",
    "    cv_folds\n",
    "\"\"\""
   ]
  },
  {
   "cell_type": "code",
   "execution_count": 3,
   "metadata": {},
   "outputs": [],
   "source": [
    "z_norm = pd.read_csv(\"../tests/pythia/fitmatsvm/znorm.csv\", header=None).values\n",
    "y_bin = pd.read_csv(\"../tests/pythia/fitmatsvm/ybin.csv\", header=None).values\n",
    "w_aux = pd.read_csv(\"../tests/pythia/fitmatsvm/waux.csv\", header=None).values\n",
    "kernel_fcn = \"gaussian\"\n",
    "params = pd.read_csv(\"../tests/pythia/fitmatsvm/params.csv\", header=None).values\n",
    "\n",
    "z_norm = np.array(z_norm)\n",
    "y_bin = np.array(y_bin)\n",
    "w_aux = np.array(w_aux)\n",
    "params = np.array(params)\n",
    "\n",
    "cv_folds = 5\n",
    "\n",
    "cp = StratifiedKFold(n_splits=cv_folds, shuffle=True, random_state=3530723506)"
   ]
  },
  {
   "cell_type": "code",
   "execution_count": 4,
   "metadata": {},
   "outputs": [
    {
     "name": "stdout",
     "output_type": "stream",
     "text": [
      "[0 1 1 0 1 0 0 0 0 0 0 0 0 0 0 0 0 1 1 1 0 1 0 0 0 0 1 1 1 0 1 1 0 1 1 1 1\n",
      " 1 1 0 0 1 1 1 1 1 0 0 0 1 1 1 1 1 0 1 1 0 0 0 1 1 1 0 1 1 1 1 0 1 1 1 1 1\n",
      " 1 0 0 1 1 1 1 1 0 0 1 0 1 1 1 1 1 1 0 0 0 1 1 1 1 0 0 1 1 0 1 0 0 0 0 1 0\n",
      " 1 1 0 1 1 1 1 0 0 1 1 1 1 1 1 1 0 0 1 1 1 0 1 1 0 0 1 1 0 0 1 1 0 0 0 0 0\n",
      " 0 1 1 1 0 1 0 0 1 0 1 1 1 1 1 0 1 0 0 0 1 1 1 0 0 1 0 1 1 1 1 1 1 1 1 1 1\n",
      " 1 1 1 1 1 0 0 0 1 1 1 0 1 1 0 1 1 1 1 1 1 1 0 1 0 0 1]\n"
     ]
    }
   ],
   "source": [
    "#get first column of y_bin\n",
    "y_bin = y_bin[:, 0]\n",
    "print(y_bin)"
   ]
  },
  {
   "cell_type": "code",
   "execution_count": 5,
   "metadata": {},
   "outputs": [
    {
     "name": "stdout",
     "output_type": "stream",
     "text": [
      "[1 1 1 1 1 1 1 1 1 1 1 1 1 1 1 1 1 1 1 1 1 1 1 1 1 1 1 1 1 1 1 1 1 1 1 1 1\n",
      " 1 1 1 1 1 1 1 1 1 1 1 1 1 1 1 1 1 1 1 1 1 1 1 1 1 1 1 1 1 1 1 1 1 1 1 1 1\n",
      " 1 1 1 1 1 1 1 1 1 1 1 1 1 1 1 1 1 1 1 1 1 1 1 1 1 1 1 1 1 1 1 1 1 1 1 1 1\n",
      " 1 1 1 1 1 1 1 1 1 1 1 1 1 1 1 1 1 1 1 1 1 1 1 1 1 1 1 1 1 1 1 1 1 1 1 1 1\n",
      " 1 1 1 1 1 1 1 1 1 1 1 1 1 1 1 1 1 1 1 1 1 1 1 1 1 1 1 1 1 1 1 1 1 1 1 1 1\n",
      " 1 1 1 1 1 1 1 1 1 1 1 1 1 1 1 1 1 1 1 1 1 1 1 1 1 1 1]\n"
     ]
    }
   ],
   "source": [
    "w_aux = w_aux[:, 0]\n",
    "print(w_aux)"
   ]
  },
  {
   "cell_type": "code",
   "execution_count": 6,
   "metadata": {},
   "outputs": [
    {
     "name": "stdout",
     "output_type": "stream",
     "text": [
      "[nan nan]\n"
     ]
    }
   ],
   "source": [
    "params = params[1]\n",
    "print(params)"
   ]
  },
  {
   "cell_type": "code",
   "execution_count": 10,
   "metadata": {},
   "outputs": [],
   "source": [
    "def fitmatsvm(\n",
    "        z_norm: NDArray[np.double],\n",
    "        y_bin: NDArray[np.double],\n",
    "        w_aux: NDArray[np.double],\n",
    "        cp: StratifiedKFold,\n",
    "        kernel_fcn: str,\n",
    "        params: NDArray[np.double],\n",
    "    ):\n",
    "\n",
    "    if kernel_fcn == \"gaussian\":\n",
    "        kernel_fcn = \"rbf\"\n",
    "    elif kernel_fcn == \"polynomial\":\n",
    "        kernel_fcn = \"poly\"\n",
    "\n",
    "    elif kernel_fcn == \"linear\":\n",
    "        kernel_fcn = \"linear\"\n",
    "    else:\n",
    "        raise ValueError(f\"Unsupported kernel function: {kernel_fcn}. \\\n",
    "                         Supported kernels are 'gaussian', 'polynomial', and 'linear'.\")\n",
    "\n",
    "\n",
    "    if np.any(np.isnan(params)):\n",
    "        param_space = {\n",
    "            \"C\": Real(2**-10, 2**4, prior='log-uniform'),\n",
    "            \"gamma\": Real(2**-10, 2**4, prior='log-uniform'),\n",
    "        }\n",
    "        svm_model = SVC(kernel=kernel_fcn, random_state=3530723506,\n",
    "                        probability=True)\n",
    "\n",
    "        bayes_search = BayesSearchCV(\n",
    "            estimator=svm_model,\n",
    "            n_iter=30,\n",
    "            search_spaces=param_space,\n",
    "            cv = 5,\n",
    "            verbose=0,\n",
    "        )\n",
    "\n",
    "\n",
    "        bayes_search.fit(z_norm, y_bin, sample_weight=w_aux)\n",
    "\n",
    "        best_svm = bayes_search.best_estimator_\n",
    "        c = bayes_search.best_params_[\"C\"]\n",
    "        g = bayes_search.best_params_[\"gamma\"]\n",
    "\n",
    "        y_sub = best_svm.predict(z_norm)\n",
    "        p_sub = best_svm.predict_proba(z_norm)[:, 1]\n",
    "\n",
    "        y_hat = y_sub\n",
    "        p_hat = p_sub\n",
    "\n",
    "    else:\n",
    "        c = params[0]\n",
    "        g = params[1]\n",
    "\n",
    "        best_svm = SVC(C=c, gamma=g, kernel=kernel_fcn)\n",
    "        y_sub = np.zeros_like(y_bin)\n",
    "        p_sub = np.zeros_like(y_bin, dtype=float)\n",
    "\n",
    "        for train_index, test_index in cp.split(z_norm, y_bin):\n",
    "            best_svm.fit(z_norm[train_index], y_bin[train_index], sample_weight = w_aux[train_index])\n",
    "            y_sub[test_index] = best_svm.predict(z_norm[test_index])\n",
    "            p_sub[test_index] = best_svm.predict_proba(z_norm[test_index])[:,1]\n",
    "\n",
    "        best_svm.fit(z_norm, y_bin, sample_weight=w_aux)\n",
    "        y_hat = best_svm.predict(z_norm)\n",
    "        p_hat = best_svm.predict_proba(z_norm)[:, 1]\n",
    "\n",
    "    return best_svm, y_sub, p_sub, y_hat, p_hat, c, g"
   ]
  },
  {
   "cell_type": "code",
   "execution_count": 11,
   "metadata": {},
   "outputs": [],
   "source": [
    "#get the first column of z_norm\n",
    "\n",
    "best_svm, y_sub, p_sub, y_hat, p_hat, c, g = fitmatsvm(z_norm, y_bin, w_aux, cp, kernel_fcn, params)"
   ]
  },
  {
   "cell_type": "code",
   "execution_count": 12,
   "metadata": {},
   "outputs": [
    {
     "name": "stdout",
     "output_type": "stream",
     "text": [
      "15.999999999999993\n",
      "0.06245715268184241\n"
     ]
    }
   ],
   "source": [
    "print(c)\n",
    "print(g)"
   ]
  },
  {
   "cell_type": "code",
   "execution_count": null,
   "metadata": {},
   "outputs": [],
   "source": []
  }
 ],
 "metadata": {
  "kernelspec": {
   "display_name": "NLP",
   "language": "python",
   "name": "python3"
  },
  "language_info": {
   "codemirror_mode": {
    "name": "ipython",
    "version": 3
   },
   "file_extension": ".py",
   "mimetype": "text/x-python",
   "name": "python",
   "nbconvert_exporter": "python",
   "pygments_lexer": "ipython3",
   "version": "3.8.18"
  }
 },
 "nbformat": 4,
 "nbformat_minor": 2
}
