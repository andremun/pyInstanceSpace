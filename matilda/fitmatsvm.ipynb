{
 "cells": [
  {
   "cell_type": "code",
   "execution_count": 21,
   "metadata": {},
   "outputs": [],
   "source": [
    "import numpy as np\n",
    "import pandas as pd\n",
    "from numpy.typing import NDArray\n",
    "from sklearn.model_selection import StratifiedKFold\n",
    "from sklearn.svm import SVC\n",
    "from skopt import BayesSearchCV\n",
    "from skopt.space import Real"
   ]
  },
  {
   "cell_type": "code",
   "execution_count": 22,
   "metadata": {},
   "outputs": [
    {
     "data": {
      "text/plain": [
       "'Things that need to prepare for the input.\\n    z_norm, y_bin, w_aux, cp, kernel_fcn, params\\n\\n    cp is StratifiedKFold\\n    StratifiedKFold(n_splits=opts.cv_folds, shuffle=True, random_state = 0)\\n\\n    cv_folds\\n'"
      ]
     },
     "execution_count": 22,
     "metadata": {},
     "output_type": "execute_result"
    }
   ],
   "source": [
    "\"\"\"Things that need to prepare for the input.\n",
    "    z_norm, y_bin, w_aux, cp, kernel_fcn, params\n",
    "\n",
    "    cp is StratifiedKFold\n",
    "    StratifiedKFold(n_splits=opts.cv_folds, shuffle=True, random_state = 0)\n",
    "\n",
    "    cv_folds\n",
    "\"\"\""
   ]
  },
  {
   "cell_type": "code",
   "execution_count": 23,
   "metadata": {},
   "outputs": [],
   "source": [
    "z_norm = pd.read_csv(\"../tests/pythia/fitmatsvm/znorm.csv\", header=None).values\n",
    "y_bin = pd.read_csv(\"../tests/pythia/fitmatsvm/ybin.csv\", header=None).values\n",
    "w_aux = pd.read_csv(\"../tests/pythia/fitmatsvm/waux.csv\", header=None).values\n",
    "kernel_fcn = \"gaussian\"\n",
    "params = pd.read_csv(\"../tests/pythia/fitmatsvm/params.csv\", header=None).values\n",
    "\n",
    "z_norm = np.array(z_norm)\n",
    "y_bin = np.array(y_bin)\n",
    "w_aux = np.array(w_aux)\n",
    "params = np.array(params)\n",
    "\n",
    "cv_folds = 5\n",
    "\n",
    "cp = StratifiedKFold(n_splits=cv_folds, shuffle=True, random_state=3530723506)"
   ]
  },
  {
   "cell_type": "code",
   "execution_count": 24,
   "metadata": {},
   "outputs": [
    {
     "name": "stdout",
     "output_type": "stream",
     "text": [
      "[0 1 1 0 1 0 0 0 0 0 0 0 0 0 0 0 0 1 1 1 0 1 0 0 0 0 1 1 1 0 1 1 0 1 1 1 1\n",
      " 1 1 0 0 1 1 1 1 1 0 0 0 1 1 1 1 1 0 1 1 0 0 0 1 1 1 0 1 1 1 1 0 1 1 1 1 1\n",
      " 1 0 0 1 1 1 1 1 0 0 1 0 1 1 1 1 1 1 0 0 0 1 1 1 1 0 0 1 1 0 1 0 0 0 0 1 0\n",
      " 1 1 0 1 1 1 1 0 0 1 1 1 1 1 1 1 0 0 1 1 1 0 1 1 0 0 1 1 0 0 1 1 0 0 0 0 0\n",
      " 0 1 1 1 0 1 0 0 1 0 1 1 1 1 1 0 1 0 0 0 1 1 1 0 0 1 0 1 1 1 1 1 1 1 1 1 1\n",
      " 1 1 1 1 1 0 0 0 1 1 1 0 1 1 0 1 1 1 1 1 1 1 0 1 0 0 1]\n"
     ]
    }
   ],
   "source": [
    "#get first column of y_bin\n",
    "y_bin = y_bin[:, 0]\n",
    "print(y_bin)"
   ]
  },
  {
   "cell_type": "code",
   "execution_count": 25,
   "metadata": {},
   "outputs": [
    {
     "name": "stdout",
     "output_type": "stream",
     "text": [
      "[1 1 1 1 1 1 1 1 1 1 1 1 1 1 1 1 1 1 1 1 1 1 1 1 1 1 1 1 1 1 1 1 1 1 1 1 1\n",
      " 1 1 1 1 1 1 1 1 1 1 1 1 1 1 1 1 1 1 1 1 1 1 1 1 1 1 1 1 1 1 1 1 1 1 1 1 1\n",
      " 1 1 1 1 1 1 1 1 1 1 1 1 1 1 1 1 1 1 1 1 1 1 1 1 1 1 1 1 1 1 1 1 1 1 1 1 1\n",
      " 1 1 1 1 1 1 1 1 1 1 1 1 1 1 1 1 1 1 1 1 1 1 1 1 1 1 1 1 1 1 1 1 1 1 1 1 1\n",
      " 1 1 1 1 1 1 1 1 1 1 1 1 1 1 1 1 1 1 1 1 1 1 1 1 1 1 1 1 1 1 1 1 1 1 1 1 1\n",
      " 1 1 1 1 1 1 1 1 1 1 1 1 1 1 1 1 1 1 1 1 1 1 1 1 1 1 1]\n"
     ]
    }
   ],
   "source": [
    "w_aux = w_aux[:, 0]\n",
    "print(w_aux)"
   ]
  },
  {
   "cell_type": "code",
   "execution_count": 26,
   "metadata": {},
   "outputs": [
    {
     "name": "stdout",
     "output_type": "stream",
     "text": [
      "[nan nan]\n"
     ]
    }
   ],
   "source": [
    "params = params[0]\n",
    "print(params)"
   ]
  },
  {
   "cell_type": "code",
   "execution_count": 30,
   "metadata": {},
   "outputs": [],
   "source": [
    "def fitmatsvm(\n",
    "        z_norm: NDArray[np.double],\n",
    "        y_bin: NDArray[np.double],\n",
    "        w_aux: NDArray[np.double],\n",
    "        cp: StratifiedKFold,\n",
    "        kernel_fcn: str,\n",
    "        params: NDArray[np.double],\n",
    "    ):\n",
    "\n",
    "    if kernel_fcn == \"gaussian\":\n",
    "        kernel_fcn = \"rbf\"\n",
    "    elif kernel_fcn == \"polynomial\":\n",
    "        kernel_fcn = \"poly\"\n",
    "    elif kernel_fcn == \"linear\":\n",
    "        kernel_fcn = \"linear\"\n",
    "    else:\n",
    "        raise ValueError(f\"Unsupported kernel function: {kernel_fcn}. \\\n",
    "                         Supported kernels are 'gaussian', 'polynomial', and 'linear'.\")\n",
    "\n",
    "\n",
    "    if np.any(np.isnan(params)):\n",
    "        param_space = {\n",
    "            \"C\": Real(2**-10, 2**4, prior='log-uniform'),\n",
    "            \"gamma\": Real(2**-10, 2**4, prior='log-uniform'),\n",
    "        }\n",
    "        svm_model = SVC(kernel=kernel_fcn, random_state=3530723506,\n",
    "                        probability=True)\n",
    "\n",
    "        bayes_search = BayesSearchCV(\n",
    "            estimator=svm_model,\n",
    "            n_iter=30,\n",
    "            search_spaces=param_space,\n",
    "            cv = 5,\n",
    "            verbose=0,\n",
    "        )\n",
    "\n",
    "\n",
    "        bayes_search.fit(z_norm, y_bin, sample_weight=w_aux)\n",
    "\n",
    "        best_svm = bayes_search.best_estimator_\n",
    "        c = bayes_search.best_params_[\"C\"]\n",
    "        g = bayes_search.best_params_[\"gamma\"]\n",
    "\n",
    "        y_sub = best_svm.predict(z_norm)\n",
    "        p_sub = best_svm.predict_proba(z_norm)[:, 1]\n",
    "\n",
    "        y_hat = y_sub\n",
    "        p_hat = p_sub\n",
    "\n",
    "    else:\n",
    "        c = params[0]\n",
    "        g = params[1]\n",
    "\n",
    "        best_svm = SVC(C=c, gamma=g, kernel=kernel_fcn)\n",
    "        y_sub = np.zeros_like(y_bin)\n",
    "        p_sub = np.zeros_like(y_bin, dtype=float)\n",
    "\n",
    "        for train_index, test_index in cp.split(z_norm, y_bin):\n",
    "            best_svm.fit(z_norm[train_index], y_bin[train_index], sample_weight = w_aux[train_index])\n",
    "            y_sub[test_index] = best_svm.predict(z_norm[test_index])\n",
    "            p_sub[test_index] = best_svm.predict_proba(z_norm[test_index])[:,1]\n",
    "\n",
    "        best_svm.fit(z_norm, y_bin, sample_weight=w_aux)\n",
    "        y_hat = best_svm.predict(z_norm)\n",
    "        p_hat = best_svm.predict_proba(z_norm)[:, 1]\n",
    "\n",
    "    return best_svm, y_sub, p_sub, y_hat, p_hat, c, g"
   ]
  },
  {
   "cell_type": "code",
   "execution_count": 31,
   "metadata": {},
   "outputs": [
    {
     "name": "stdout",
     "output_type": "stream",
     "text": [
      "first half\n"
     ]
    }
   ],
   "source": [
    "#get the first column of z_norm\n",
    "\n",
    "best_svm, y_sub, p_sub, y_hat, p_hat, c, g = fitmatsvm(z_norm, y_bin, w_aux, cp, kernel_fcn, params)"
   ]
  },
  {
   "cell_type": "code",
   "execution_count": 32,
   "metadata": {},
   "outputs": [
    {
     "name": "stdout",
     "output_type": "stream",
     "text": [
      "0.5284851789475358\n",
      "0.35470094682786174\n"
     ]
    }
   ],
   "source": [
    "print(c) # supposed 6.2279\n",
    "print(g) # supposed 15.9350"
   ]
  },
  {
   "cell_type": "code",
   "execution_count": 33,
   "metadata": {},
   "outputs": [
    {
     "data": {
      "text/plain": [
       "array([0.17025463, 0.91298556, 0.62369753, 0.25005805, 0.91171741,\n",
       "       0.33246258, 0.16916596, 0.09019149, 0.07874822, 0.1910628 ,\n",
       "       0.19870037, 0.18470569, 0.27078047, 0.07809314, 0.08632867,\n",
       "       0.07853186, 0.6283173 , 0.59343949, 0.92448617, 0.58661901,\n",
       "       0.26989118, 0.7062195 , 0.13007707, 0.1575783 , 0.09526836,\n",
       "       0.09769109, 0.89756971, 0.89591496, 0.90860279, 0.11179468,\n",
       "       0.85230837, 0.9171669 , 0.0992018 , 0.86128096, 0.91694532,\n",
       "       0.88876272, 0.6125706 , 0.89638709, 0.89912246, 0.07949753,\n",
       "       0.06938976, 0.86431071, 0.90492766, 0.91196984, 0.90897675,\n",
       "       0.89946629, 0.09625262, 0.3492169 , 0.10966744, 0.92434817,\n",
       "       0.9008076 , 0.92365149, 0.4559187 , 0.90243935, 0.91348241,\n",
       "       0.86574689, 0.86685004, 0.90540164, 0.28594755, 0.62960018,\n",
       "       0.89730131, 0.91084962, 0.90382669, 0.80826343, 0.9136459 ,\n",
       "       0.90228292, 0.88596116, 0.90151948, 0.80324603, 0.89975443,\n",
       "       0.88791164, 0.72015851, 0.88634579, 0.89584522, 0.9101734 ,\n",
       "       0.70480327, 0.10902922, 0.10557296, 0.27978927, 0.27410828,\n",
       "       0.91465061, 0.59655425, 0.08465434, 0.09902627, 0.19479211,\n",
       "       0.10778416, 0.57664608, 0.56818117, 0.10960696, 0.22139894,\n",
       "       0.87611287, 0.90764982, 0.11370409, 0.11775855, 0.11883204,\n",
       "       0.92390038, 0.90706082, 0.78032483, 0.92195024, 0.30019268,\n",
       "       0.3492169 , 0.89095646, 0.88551539, 0.61204148, 0.91829576,\n",
       "       0.09897603, 0.49194807, 0.09534046, 0.15755136, 0.7833156 ,\n",
       "       0.08815689, 0.43420081, 0.35391682, 0.17516452, 0.914298  ,\n",
       "       0.91068044, 0.33141928, 0.47138685, 0.16668941, 0.20285034,\n",
       "       0.3147444 , 0.91234456, 0.88541777, 0.8915646 , 0.91140969,\n",
       "       0.89805876, 0.91916335, 0.9081062 , 0.8848635 , 0.90028707,\n",
       "       0.88977415, 0.92056269, 0.85761796, 0.91273822, 0.8811527 ,\n",
       "       0.60051494, 0.11769123, 0.72842293, 0.88547163, 0.17587874,\n",
       "       0.27087109, 0.61265473, 0.89070112, 0.16925235, 0.23850542,\n",
       "       0.09110482, 0.1362828 , 0.08319071, 0.41902624, 0.17307813,\n",
       "       0.92495114, 0.91902577, 0.91768593, 0.91807547, 0.91543796,\n",
       "       0.10121717, 0.92416281, 0.91790891, 0.92496082, 0.76586429,\n",
       "       0.91024607, 0.91039943, 0.88297048, 0.70513476, 0.34885126,\n",
       "       0.37863724, 0.31429776, 0.13146306, 0.2470363 , 0.92340844,\n",
       "       0.92415431, 0.35952912, 0.06920096, 0.91027228, 0.06065838,\n",
       "       0.91257204, 0.90456074, 0.90558476, 0.88333075, 0.90947524,\n",
       "       0.89793973, 0.89622468, 0.90946926, 0.90946926, 0.88697135,\n",
       "       0.88544248, 0.9089119 , 0.92540384, 0.89444848, 0.88397728,\n",
       "       0.12942978, 0.24478792, 0.30373458, 0.41787103, 0.92048402,\n",
       "       0.75736937, 0.37857172, 0.75214682, 0.89860133, 0.90177776,\n",
       "       0.92279656, 0.77514798, 0.68145155, 0.88541364, 0.81585554,\n",
       "       0.88541365, 0.92423015, 0.41338814, 0.89671387, 0.15742943,\n",
       "       0.15750466, 0.91656278])"
      ]
     },
     "execution_count": 33,
     "metadata": {},
     "output_type": "execute_result"
    }
   ],
   "source": [
    "p_hat\n"
   ]
  },
  {
   "cell_type": "code",
   "execution_count": null,
   "metadata": {},
   "outputs": [],
   "source": []
  }
 ],
 "metadata": {
  "kernelspec": {
   "display_name": "NLP",
   "language": "python",
   "name": "python3"
  },
  "language_info": {
   "codemirror_mode": {
    "name": "ipython",
    "version": 3
   },
   "file_extension": ".py",
   "mimetype": "text/x-python",
   "name": "python",
   "nbconvert_exporter": "python",
   "pygments_lexer": "ipython3",
   "version": "3.11.5"
  }
 },
 "nbformat": 4,
 "nbformat_minor": 2
}
