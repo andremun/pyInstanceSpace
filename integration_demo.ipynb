{
 "cells": [
  {
   "cell_type": "code",
   "execution_count": 1,
   "metadata": {},
   "outputs": [
    {
     "name": "stdout",
     "output_type": "stream",
     "text": [
      "3.12.4 | packaged by Anaconda, Inc. | (main, Jun 18 2024, 15:03:56) [MSC v.1929 64 bit (AMD64)]\n"
     ]
    }
   ],
   "source": [
    "import sys\n",
    "print(sys.version)"
   ]
  },
  {
   "cell_type": "code",
   "execution_count": 9,
   "metadata": {},
   "outputs": [
    {
     "name": "stdout",
     "output_type": "stream",
     "text": [
      "Requirement already satisfied: shapely in c:\\users\\khare\\anaconda3\\lib\\site-packages (2.0.6)\n",
      "Requirement already satisfied: numpy<3,>=1.14 in c:\\users\\khare\\anaconda3\\lib\\site-packages (from shapely) (1.26.4)\n",
      "Requirement already satisfied: loguru in c:\\users\\khare\\anaconda3\\lib\\site-packages (0.7.2)\n",
      "Requirement already satisfied: colorama>=0.3.4 in c:\\users\\khare\\appdata\\roaming\\python\\python312\\site-packages (from loguru) (0.4.6)\n",
      "Requirement already satisfied: win32-setctime>=1.0.0 in c:\\users\\khare\\anaconda3\\lib\\site-packages (from loguru) (1.1.0)\n"
     ]
    },
    {
     "name": "stderr",
     "output_type": "stream",
     "text": [
      "ERROR: Invalid requirement: \"'skopt'\"\n"
     ]
    }
   ],
   "source": [
    "!pip install shapely\n",
    "!pip install loguru"
   ]
  },
  {
   "cell_type": "code",
   "execution_count": 11,
   "metadata": {},
   "outputs": [
    {
     "name": "stdout",
     "output_type": "stream",
     "text": [
      "Collecting scikit-optimize\n",
      "  Downloading scikit_optimize-0.10.2-py2.py3-none-any.whl.metadata (9.7 kB)\n",
      "Requirement already satisfied: joblib>=0.11 in c:\\users\\khare\\anaconda3\\lib\\site-packages (from scikit-optimize) (1.4.2)\n",
      "Collecting pyaml>=16.9 (from scikit-optimize)\n",
      "  Downloading pyaml-24.9.0-py3-none-any.whl.metadata (11 kB)\n",
      "Requirement already satisfied: numpy>=1.20.3 in c:\\users\\khare\\anaconda3\\lib\\site-packages (from scikit-optimize) (1.26.4)\n",
      "Requirement already satisfied: scipy>=1.1.0 in c:\\users\\khare\\anaconda3\\lib\\site-packages (from scikit-optimize) (1.13.1)\n",
      "Requirement already satisfied: scikit-learn>=1.0.0 in c:\\users\\khare\\anaconda3\\lib\\site-packages (from scikit-optimize) (1.4.2)\n",
      "Requirement already satisfied: packaging>=21.3 in c:\\users\\khare\\appdata\\roaming\\python\\python312\\site-packages (from scikit-optimize) (24.0)\n",
      "Requirement already satisfied: PyYAML in c:\\users\\khare\\anaconda3\\lib\\site-packages (from pyaml>=16.9->scikit-optimize) (6.0.1)\n",
      "Requirement already satisfied: threadpoolctl>=2.0.0 in c:\\users\\khare\\anaconda3\\lib\\site-packages (from scikit-learn>=1.0.0->scikit-optimize) (2.2.0)\n",
      "Downloading scikit_optimize-0.10.2-py2.py3-none-any.whl (107 kB)\n",
      "   ---------------------------------------- 0.0/107.8 kB ? eta -:--:--\n",
      "   ----------- ---------------------------- 30.7/107.8 kB 1.3 MB/s eta 0:00:01\n",
      "   ---------------------------------------- 107.8/107.8 kB 1.6 MB/s eta 0:00:00\n",
      "Downloading pyaml-24.9.0-py3-none-any.whl (24 kB)\n",
      "Installing collected packages: pyaml, scikit-optimize\n",
      "Successfully installed pyaml-24.9.0 scikit-optimize-0.10.2\n"
     ]
    }
   ],
   "source": [
    "!pip install scikit-optimize"
   ]
  },
  {
   "cell_type": "code",
   "execution_count": 14,
   "metadata": {},
   "outputs": [
    {
     "name": "stdout",
     "output_type": "stream",
     "text": [
      "Collecting pygad\n",
      "  Downloading pygad-3.3.1-py3-none-any.whl.metadata (19 kB)\n",
      "Requirement already satisfied: cloudpickle in c:\\users\\khare\\anaconda3\\lib\\site-packages (from pygad) (2.2.1)\n",
      "Requirement already satisfied: matplotlib in c:\\users\\khare\\anaconda3\\lib\\site-packages (from pygad) (3.8.4)\n",
      "Requirement already satisfied: numpy in c:\\users\\khare\\anaconda3\\lib\\site-packages (from pygad) (1.26.4)\n",
      "Requirement already satisfied: contourpy>=1.0.1 in c:\\users\\khare\\anaconda3\\lib\\site-packages (from matplotlib->pygad) (1.2.0)\n",
      "Requirement already satisfied: cycler>=0.10 in c:\\users\\khare\\anaconda3\\lib\\site-packages (from matplotlib->pygad) (0.11.0)\n",
      "Requirement already satisfied: fonttools>=4.22.0 in c:\\users\\khare\\anaconda3\\lib\\site-packages (from matplotlib->pygad) (4.51.0)\n",
      "Requirement already satisfied: kiwisolver>=1.3.1 in c:\\users\\khare\\anaconda3\\lib\\site-packages (from matplotlib->pygad) (1.4.4)\n",
      "Requirement already satisfied: packaging>=20.0 in c:\\users\\khare\\appdata\\roaming\\python\\python312\\site-packages (from matplotlib->pygad) (24.0)\n",
      "Requirement already satisfied: pillow>=8 in c:\\users\\khare\\anaconda3\\lib\\site-packages (from matplotlib->pygad) (10.3.0)\n",
      "Requirement already satisfied: pyparsing>=2.3.1 in c:\\users\\khare\\anaconda3\\lib\\site-packages (from matplotlib->pygad) (3.0.9)\n",
      "Requirement already satisfied: python-dateutil>=2.7 in c:\\users\\khare\\appdata\\roaming\\python\\python312\\site-packages (from matplotlib->pygad) (2.9.0.post0)\n",
      "Requirement already satisfied: six>=1.5 in c:\\users\\khare\\appdata\\roaming\\python\\python312\\site-packages (from python-dateutil>=2.7->matplotlib->pygad) (1.16.0)\n",
      "Downloading pygad-3.3.1-py3-none-any.whl (84 kB)\n",
      "   ---------------------------------------- 0.0/84.1 kB ? eta -:--:--\n",
      "   ------------------- -------------------- 41.0/84.1 kB 991.0 kB/s eta 0:00:01\n",
      "   ---------------------------------------- 84.1/84.1 kB 1.6 MB/s eta 0:00:00\n",
      "Installing collected packages: pygad\n",
      "Successfully installed pygad-3.3.1\n"
     ]
    }
   ],
   "source": [
    "!pip install pygad"
   ]
  },
  {
   "cell_type": "code",
   "execution_count": 16,
   "metadata": {},
   "outputs": [
    {
     "name": "stdout",
     "output_type": "stream",
     "text": [
      "Collecting alphashape\n",
      "  Downloading alphashape-1.3.1-py2.py3-none-any.whl.metadata (18 kB)\n",
      "Requirement already satisfied: Click>=6.0 in c:\\users\\khare\\anaconda3\\lib\\site-packages (from alphashape) (8.1.7)\n",
      "Collecting click-log>=0.3.2 (from alphashape)\n",
      "  Downloading click_log-0.4.0-py2.py3-none-any.whl.metadata (1.2 kB)\n",
      "Requirement already satisfied: shapely>=1.4.0 in c:\\users\\khare\\anaconda3\\lib\\site-packages (from alphashape) (2.0.6)\n",
      "Requirement already satisfied: numpy>=1.8.0 in c:\\users\\khare\\anaconda3\\lib\\site-packages (from alphashape) (1.26.4)\n",
      "Collecting trimesh>=3.9.8 (from alphashape)\n",
      "  Downloading trimesh-4.4.9-py3-none-any.whl.metadata (18 kB)\n",
      "Requirement already satisfied: networkx>=2.5 in c:\\users\\khare\\anaconda3\\lib\\site-packages (from alphashape) (3.2.1)\n",
      "Requirement already satisfied: rtree>=0.9.7 in c:\\users\\khare\\anaconda3\\lib\\site-packages (from alphashape) (1.0.1)\n",
      "Requirement already satisfied: scipy>=1.0.0 in c:\\users\\khare\\anaconda3\\lib\\site-packages (from alphashape) (1.13.1)\n",
      "Requirement already satisfied: colorama in c:\\users\\khare\\appdata\\roaming\\python\\python312\\site-packages (from Click>=6.0->alphashape) (0.4.6)\n",
      "Downloading alphashape-1.3.1-py2.py3-none-any.whl (13 kB)\n",
      "Downloading click_log-0.4.0-py2.py3-none-any.whl (4.3 kB)\n",
      "Downloading trimesh-4.4.9-py3-none-any.whl (700 kB)\n",
      "   ---------------------------------------- 0.0/700.1 kB ? eta -:--:--\n",
      "   ------------------ --------------------- 317.4/700.1 kB 6.5 MB/s eta 0:00:01\n",
      "   ---------------------------------------- 700.1/700.1 kB 8.8 MB/s eta 0:00:00\n",
      "Installing collected packages: trimesh, click-log, alphashape\n",
      "Successfully installed alphashape-1.3.1 click-log-0.4.0 trimesh-4.4.9\n"
     ]
    }
   ],
   "source": [
    "!pip install alphashape"
   ]
  },
  {
   "cell_type": "code",
   "execution_count": 20,
   "metadata": {},
   "outputs": [
    {
     "name": "stdout",
     "output_type": "stream",
     "text": [
      "C:\\Users\\khare\\Desktop\\MT-Updating-Matilda\\script\\test_integration\\metadata.csv: [Errno 2] No such file or directory: 'C:\\\\Users\\\\khare\\\\Desktop\\\\MT-Updating-Matilda\\\\script\\\\test_integration\\\\metadata.csv'\n"
     ]
    },
    {
     "ename": "TypeError",
     "evalue": "InstanceSpace.__init__() missing 2 required positional arguments: 'metadata' and 'options'",
     "output_type": "error",
     "traceback": [
      "\u001b[1;31m---------------------------------------------------------------------------\u001b[0m",
      "\u001b[1;31mTypeError\u001b[0m                                 Traceback (most recent call last)",
      "Cell \u001b[1;32mIn[20], line 13\u001b[0m\n\u001b[0;32m      9\u001b[0m options_path \u001b[38;5;241m=\u001b[39m script_dir \u001b[38;5;241m/\u001b[39m \u001b[38;5;124m\"\u001b[39m\u001b[38;5;124mtest_integration\u001b[39m\u001b[38;5;124m\"\u001b[39m \u001b[38;5;241m/\u001b[39m \u001b[38;5;124m\"\u001b[39m\u001b[38;5;124moptions.json\u001b[39m\u001b[38;5;124m\"\u001b[39m\n\u001b[0;32m     11\u001b[0m metadata \u001b[38;5;241m=\u001b[39m metadata\u001b[38;5;241m.\u001b[39mfrom_csv_file(metadata_path)\n\u001b[1;32m---> 13\u001b[0m instance_space \u001b[38;5;241m=\u001b[39m \u001b[43mInstanceSpace\u001b[49m\u001b[43m(\u001b[49m\u001b[43m)\u001b[49m\n",
      "\u001b[1;31mTypeError\u001b[0m: InstanceSpace.__init__() missing 2 required positional arguments: 'metadata' and 'options'"
     ]
    }
   ],
   "source": [
    "from pathlib import Path\n",
    "from matilda import InstanceSpace\n",
    "from matilda.data import metadata\n",
    "\n",
    "script_dir = Path.cwd() / \"script\"\n",
    "# script_dir / \"test_data/serialisers/actual_output\" / directory\n",
    "\n",
    "metadata_path = script_dir / \"test_integration\" / \"metadata.csv\"\n",
    "options_path = script_dir / \"test_integration\" / \"options.json\"\n",
    "\n",
    "metadata = metadata.from_csv_file(metadata_path)\n",
    "options = option\n",
    "\n",
    "instance_space = InstanceSpace()"
   ]
  },
  {
   "cell_type": "code",
   "execution_count": null,
   "metadata": {},
   "outputs": [],
   "source": []
  }
 ],
 "metadata": {
  "kernelspec": {
   "display_name": "Python 3 (ipykernel)",
   "language": "python",
   "name": "python3"
  },
  "language_info": {
   "codemirror_mode": {
    "name": "ipython",
    "version": 3
   },
   "file_extension": ".py",
   "mimetype": "text/x-python",
   "name": "python",
   "nbconvert_exporter": "python",
   "pygments_lexer": "ipython3",
   "version": "3.12.4"
  }
 },
 "nbformat": 4,
 "nbformat_minor": 4
}
