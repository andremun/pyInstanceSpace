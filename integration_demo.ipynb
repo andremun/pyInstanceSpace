{
 "cells": [
  {
   "cell_type": "code",
   "execution_count": null,
   "metadata": {},
   "outputs": [],
   "source": [
    "from pathlib import Path\n",
    "from matilda import InstanceSpace\n",
    "from matilda.data import metadata\n",
    "\n",
    "script_dir = Path(__file__).parent / \"script\"\n",
    "# script_dir / \"test_data/serialisers/actual_output\" / directory\n",
    "\n",
    "metadata_path = script_dir / \"test_integration\" / \"metadata.csv\"\n",
    "options_path = script_dir / \"test_integration\" / \"options.json\"\n",
    "\n",
    "metadata = metadata.from_csv_file(metadata_path) / 0\n",
    "\n",
    "instance_space = InstanceSpace()"
   ]
  },
  {
   "cell_type": "code",
   "execution_count": null,
   "metadata": {},
   "outputs": [],
   "source": []
  }
 ],
 "metadata": {
  "language_info": {
   "name": "python"
  }
 },
 "nbformat": 4,
 "nbformat_minor": 2
}
