{
 "cells": [
  {
   "cell_type": "code",
   "execution_count": 14,
   "metadata": {},
   "outputs": [],
   "source": [
    "import matilda"
   ]
  },
  {
   "cell_type": "code",
   "execution_count": 16,
   "metadata": {},
   "outputs": [
    {
     "ename": "NotImplementedError",
     "evalue": "",
     "output_type": "error",
     "traceback": [
      "\u001b[0;31m---------------------------------------------------------------------------\u001b[0m",
      "\u001b[0;31mNotImplementedError\u001b[0m                       Traceback (most recent call last)",
      "Cell \u001b[0;32mIn[16], line 2\u001b[0m\n\u001b[1;32m      1\u001b[0m options \u001b[38;5;241m=\u001b[39m matilda\u001b[38;5;241m.\u001b[39mOptions\u001b[38;5;241m.\u001b[39mdefault()\n\u001b[0;32m----> 2\u001b[0m metadata \u001b[38;5;241m=\u001b[39m \u001b[43mmatilda\u001b[49m\u001b[38;5;241;43m.\u001b[39;49m\u001b[43mMetadata\u001b[49m\u001b[38;5;241;43m.\u001b[39;49m\u001b[43mfrom_file\u001b[49m\u001b[43m(\u001b[49m\u001b[38;5;124;43m\"\u001b[39;49m\u001b[38;5;124;43m\"\u001b[39;49m\u001b[43m)\u001b[49m\n\u001b[1;32m      4\u001b[0m instance_space \u001b[38;5;241m=\u001b[39m matilda\u001b[38;5;241m.\u001b[39mInstanceSpace(metadata\u001b[38;5;241m=\u001b[39mmetadata, options\u001b[38;5;241m=\u001b[39moptions)\n",
      "File \u001b[0;32m~/uni/YearLongProject/MT-Updating-Matilda/matilda/data/metadata.py:40\u001b[0m, in \u001b[0;36mMetadata.from_file\u001b[0;34m(file_contents)\u001b[0m\n\u001b[1;32m     28\u001b[0m \u001b[38;5;129m@staticmethod\u001b[39m\n\u001b[1;32m     29\u001b[0m \u001b[38;5;28;01mdef\u001b[39;00m \u001b[38;5;21mfrom_file\u001b[39m(file_contents: \u001b[38;5;28mstr\u001b[39m) \u001b[38;5;241m-\u001b[39m\u001b[38;5;241m>\u001b[39m Metadata:\n\u001b[1;32m     30\u001b[0m \u001b[38;5;250m    \u001b[39m\u001b[38;5;124;03m\"\"\"Parse metadata from a file, and construct a Metadata object.\u001b[39;00m\n\u001b[1;32m     31\u001b[0m \n\u001b[1;32m     32\u001b[0m \u001b[38;5;124;03m    Args\u001b[39;00m\n\u001b[0;32m   (...)\u001b[0m\n\u001b[1;32m     38\u001b[0m \u001b[38;5;124;03m    A Metadata object.\u001b[39;00m\n\u001b[1;32m     39\u001b[0m \u001b[38;5;124;03m    \"\"\"\u001b[39;00m\n\u001b[0;32m---> 40\u001b[0m     \u001b[38;5;28;01mraise\u001b[39;00m \u001b[38;5;167;01mNotImplementedError\u001b[39;00m\n",
      "\u001b[0;31mNotImplementedError\u001b[0m: "
     ]
    }
   ],
   "source": [
    "options = matilda.Options.default()\n",
    "metadata = matilda.Metadata.from_file(\"\")\n",
    "\n",
    "instance_space = matilda.InstanceSpace(metadata=metadata, options=options)"
   ]
  },
  {
   "cell_type": "code",
   "execution_count": 17,
   "metadata": {},
   "outputs": [],
   "source": [
    "# instance_space.preprocessing()"
   ]
  },
  {
   "cell_type": "code",
   "execution_count": 18,
   "metadata": {},
   "outputs": [
    {
     "ename": "NameError",
     "evalue": "name 'instance_space' is not defined",
     "output_type": "error",
     "traceback": [
      "\u001b[0;31m---------------------------------------------------------------------------\u001b[0m",
      "\u001b[0;31mNameError\u001b[0m                                 Traceback (most recent call last)",
      "Cell \u001b[0;32mIn[18], line 1\u001b[0m\n\u001b[0;32m----> 1\u001b[0m \u001b[43minstance_space\u001b[49m\u001b[38;5;241m.\u001b[39mprelim()\n",
      "\u001b[0;31mNameError\u001b[0m: name 'instance_space' is not defined"
     ]
    }
   ],
   "source": [
    "instance_space.prelim()"
   ]
  },
  {
   "cell_type": "code",
   "execution_count": 19,
   "metadata": {},
   "outputs": [
    {
     "ename": "NameError",
     "evalue": "name 'instance_space' is not defined",
     "output_type": "error",
     "traceback": [
      "\u001b[0;31m---------------------------------------------------------------------------\u001b[0m",
      "\u001b[0;31mNameError\u001b[0m                                 Traceback (most recent call last)",
      "Cell \u001b[0;32mIn[19], line 1\u001b[0m\n\u001b[0;32m----> 1\u001b[0m \u001b[43minstance_space\u001b[49m\u001b[38;5;241m.\u001b[39msifted()\n",
      "\u001b[0;31mNameError\u001b[0m: name 'instance_space' is not defined"
     ]
    }
   ],
   "source": [
    "instance_space.sifted()"
   ]
  },
  {
   "cell_type": "code",
   "execution_count": 20,
   "metadata": {},
   "outputs": [
    {
     "ename": "NameError",
     "evalue": "name 'instance_space' is not defined",
     "output_type": "error",
     "traceback": [
      "\u001b[0;31m---------------------------------------------------------------------------\u001b[0m",
      "\u001b[0;31mNameError\u001b[0m                                 Traceback (most recent call last)",
      "Cell \u001b[0;32mIn[20], line 3\u001b[0m\n\u001b[1;32m      1\u001b[0m \u001b[38;5;66;03m# Change the options somehow, will think on this\u001b[39;00m\n\u001b[0;32m----> 3\u001b[0m \u001b[43minstance_space\u001b[49m\u001b[38;5;241m.\u001b[39msifted()\n",
      "\u001b[0;31mNameError\u001b[0m: name 'instance_space' is not defined"
     ]
    }
   ],
   "source": [
    "# Change the options somehow, will think on this\n",
    "\n",
    "instance_space.sifted()"
   ]
  },
  {
   "cell_type": "code",
   "execution_count": 21,
   "metadata": {},
   "outputs": [
    {
     "ename": "NameError",
     "evalue": "name 'instance_space' is not defined",
     "output_type": "error",
     "traceback": [
      "\u001b[0;31m---------------------------------------------------------------------------\u001b[0m",
      "\u001b[0;31mNameError\u001b[0m                                 Traceback (most recent call last)",
      "Cell \u001b[0;32mIn[21], line 1\u001b[0m\n\u001b[0;32m----> 1\u001b[0m \u001b[43minstance_space\u001b[49m\u001b[38;5;241m.\u001b[39mpilot()\n",
      "\u001b[0;31mNameError\u001b[0m: name 'instance_space' is not defined"
     ]
    }
   ],
   "source": [
    "instance_space.pilot()"
   ]
  },
  {
   "cell_type": "code",
   "execution_count": 22,
   "metadata": {},
   "outputs": [
    {
     "ename": "NameError",
     "evalue": "name 'instance_space' is not defined",
     "output_type": "error",
     "traceback": [
      "\u001b[0;31m---------------------------------------------------------------------------\u001b[0m",
      "\u001b[0;31mNameError\u001b[0m                                 Traceback (most recent call last)",
      "Cell \u001b[0;32mIn[22], line 1\u001b[0m\n\u001b[0;32m----> 1\u001b[0m \u001b[43minstance_space\u001b[49m\u001b[38;5;241m.\u001b[39mcloister()\n",
      "\u001b[0;31mNameError\u001b[0m: name 'instance_space' is not defined"
     ]
    }
   ],
   "source": [
    "instance_space.cloister()"
   ]
  },
  {
   "cell_type": "code",
   "execution_count": 23,
   "metadata": {},
   "outputs": [
    {
     "ename": "NameError",
     "evalue": "name 'instance_space' is not defined",
     "output_type": "error",
     "traceback": [
      "\u001b[0;31m---------------------------------------------------------------------------\u001b[0m",
      "\u001b[0;31mNameError\u001b[0m                                 Traceback (most recent call last)",
      "Cell \u001b[0;32mIn[23], line 1\u001b[0m\n\u001b[0;32m----> 1\u001b[0m \u001b[43minstance_space\u001b[49m\u001b[38;5;241m.\u001b[39mtrace()\n",
      "\u001b[0;31mNameError\u001b[0m: name 'instance_space' is not defined"
     ]
    }
   ],
   "source": [
    "instance_space.trace()"
   ]
  },
  {
   "cell_type": "code",
   "execution_count": 24,
   "metadata": {},
   "outputs": [
    {
     "ename": "NameError",
     "evalue": "name 'instance_space' is not defined",
     "output_type": "error",
     "traceback": [
      "\u001b[0;31m---------------------------------------------------------------------------\u001b[0m",
      "\u001b[0;31mNameError\u001b[0m                                 Traceback (most recent call last)",
      "Cell \u001b[0;32mIn[24], line 1\u001b[0m\n\u001b[0;32m----> 1\u001b[0m \u001b[43minstance_space\u001b[49m\u001b[38;5;241m.\u001b[39mpythia()\n",
      "\u001b[0;31mNameError\u001b[0m: name 'instance_space' is not defined"
     ]
    }
   ],
   "source": [
    "instance_space.pythia()"
   ]
  },
  {
   "cell_type": "code",
   "execution_count": 25,
   "metadata": {},
   "outputs": [
    {
     "ename": "NameError",
     "evalue": "name 'instance_space' is not defined",
     "output_type": "error",
     "traceback": [
      "\u001b[0;31m---------------------------------------------------------------------------\u001b[0m",
      "\u001b[0;31mNameError\u001b[0m                                 Traceback (most recent call last)",
      "Cell \u001b[0;32mIn[25], line 1\u001b[0m\n\u001b[0;32m----> 1\u001b[0m \u001b[43minstance_space\u001b[49m\u001b[38;5;241m.\u001b[39mto_csv()\n",
      "\u001b[0;31mNameError\u001b[0m: name 'instance_space' is not defined"
     ]
    }
   ],
   "source": [
    "instance_space.to_csv()"
   ]
  },
  {
   "cell_type": "markdown",
   "metadata": {},
   "source": []
  },
  {
   "cell_type": "code",
   "execution_count": 26,
   "metadata": {},
   "outputs": [
    {
     "ename": "NameError",
     "evalue": "name 'instance_space' is not defined",
     "output_type": "error",
     "traceback": [
      "\u001b[0;31m---------------------------------------------------------------------------\u001b[0m",
      "\u001b[0;31mNameError\u001b[0m                                 Traceback (most recent call last)",
      "Cell \u001b[0;32mIn[26], line 1\u001b[0m\n\u001b[0;32m----> 1\u001b[0m \u001b[43minstance_space\u001b[49m\u001b[38;5;241m.\u001b[39mto_png()\n",
      "\u001b[0;31mNameError\u001b[0m: name 'instance_space' is not defined"
     ]
    }
   ],
   "source": [
    "instance_space.to_png()"
   ]
  },
  {
   "cell_type": "code",
   "execution_count": 27,
   "metadata": {},
   "outputs": [
    {
     "ename": "NameError",
     "evalue": "name 'instance_space' is not defined",
     "output_type": "error",
     "traceback": [
      "\u001b[0;31m---------------------------------------------------------------------------\u001b[0m",
      "\u001b[0;31mNameError\u001b[0m                                 Traceback (most recent call last)",
      "Cell \u001b[0;32mIn[27], line 1\u001b[0m\n\u001b[0;32m----> 1\u001b[0m \u001b[43minstance_space\u001b[49m\u001b[38;5;241m.\u001b[39mto_web()\n",
      "\u001b[0;31mNameError\u001b[0m: name 'instance_space' is not defined"
     ]
    }
   ],
   "source": [
    "instance_space.to_web()"
   ]
  },
  {
   "cell_type": "code",
   "execution_count": 28,
   "metadata": {},
   "outputs": [
    {
     "name": "stdout",
     "output_type": "stream",
     "text": [
      "\u001b[37mPoe =>\u001b[0m \u001b[94mdocconvert -o numpy matilda/ --in-place\u001b[0m\n",
      "\u001b[37mPoe =>\u001b[0m \u001b[94mruff check --fix\u001b[0m\n",
      "All checks passed!\n",
      "\u001b[37mPoe =>\u001b[0m \u001b[94mmypy --strict .\u001b[0m\n",
      "\u001b[1m\u001b[32mSuccess: no issues found in 27 source files\u001b[m\n"
     ]
    }
   ],
   "source": [
    "! poe check"
   ]
  },
  {
   "cell_type": "code",
   "execution_count": 31,
   "metadata": {},
   "outputs": [
    {
     "name": "stdout",
     "output_type": "stream",
     "text": [
      "\u001b[1m============================= test session starts ==============================\u001b[0m\n",
      "platform linux -- Python 3.12.3, pytest-8.2.0, pluggy-1.5.0\n",
      "rootdir: /home/neatht/uni/YearLongProject/MT-Updating-Matilda\n",
      "configfile: pyproject.toml\n",
      "plugins: anyio-4.3.0\n",
      "collected 9 items                                                              \u001b[0m\n",
      "\n",
      "tests/test_basic.py \u001b[32m.\u001b[0m\u001b[32m                                                    [ 11%]\u001b[0m\n",
      "tests/test_cloister.py \u001b[32m.\u001b[0m\u001b[32m.\u001b[0m\u001b[32m.\u001b[0m\u001b[32m.\u001b[0m\u001b[32m.\u001b[0m\u001b[32m.\u001b[0m\u001b[32m.\u001b[0m\u001b[32m.\u001b[0m\u001b[32m                                          [100%]\u001b[0m\n",
      "\n",
      "\u001b[32m============================== \u001b[32m\u001b[1m9 passed\u001b[0m\u001b[32m in 0.59s\u001b[0m\u001b[32m ===============================\u001b[0m\n"
     ]
    }
   ],
   "source": [
    "! (cd ../ && poetry run pytest)"
   ]
  },
  {
   "cell_type": "code",
   "execution_count": null,
   "metadata": {},
   "outputs": [],
   "source": []
  }
 ],
 "metadata": {
  "kernelspec": {
   "display_name": ".venv",
   "language": "python",
   "name": "python3"
  },
  "language_info": {
   "codemirror_mode": {
    "name": "ipython",
    "version": 3
   },
   "file_extension": ".py",
   "mimetype": "text/x-python",
   "name": "python",
   "nbconvert_exporter": "python",
   "pygments_lexer": "ipython3",
   "version": "3.12.3"
  }
 },
 "nbformat": 4,
 "nbformat_minor": 2
}
