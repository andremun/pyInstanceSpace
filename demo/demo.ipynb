{
 "cells": [
  {
   "cell_type": "code",
   "execution_count": 45,
   "metadata": {},
   "outputs": [],
   "source": [
    "import matilda\n",
    "from matilda import from_csv_file\n",
    "from matilda.data.option import CloisterOptions"
   ]
  },
  {
   "cell_type": "code",
   "execution_count": 46,
   "metadata": {},
   "outputs": [],
   "source": [
    "\n",
    "options = matilda.Options.default(\n",
    "    cloister=CloisterOptions.default(p_val=0.2, c_thres=0.001),\n",
    ")\n",
    "metadata = from_csv_file(\"metadata.csv\")\n",
    "\n",
    "instance_space = matilda.InstanceSpace(metadata=metadata, options=options)"
   ]
  },
  {
   "cell_type": "code",
   "execution_count": 47,
   "metadata": {},
   "outputs": [],
   "source": [
    "# instance_space.preprocessing()"
   ]
  },
  {
   "cell_type": "code",
   "execution_count": 48,
   "metadata": {},
   "outputs": [
    {
     "name": "stdout",
     "output_type": "stream",
     "text": [
      "-> NOT COMPLETED, PLACEHOLDER USED\n"
     ]
    }
   ],
   "source": [
    "instance_space.prelim()"
   ]
  },
  {
   "cell_type": "code",
   "execution_count": 49,
   "metadata": {},
   "outputs": [
    {
     "name": "stdout",
     "output_type": "stream",
     "text": [
      "-> NOT COMPLETED, PLACEHOLDER USED\n"
     ]
    }
   ],
   "source": [
    "instance_space.sifted()"
   ]
  },
  {
   "cell_type": "code",
   "execution_count": 50,
   "metadata": {},
   "outputs": [
    {
     "name": "stdout",
     "output_type": "stream",
     "text": [
      "-> NOT COMPLETED, PLACEHOLDER USED\n"
     ]
    }
   ],
   "source": [
    "instance_space.pilot()"
   ]
  },
  {
   "cell_type": "code",
   "execution_count": 51,
   "metadata": {},
   "outputs": [
    {
     "name": "stdout",
     "output_type": "stream",
     "text": [
      "  -> CLOISTER is using correlation to estimate a boundary for the space.\n",
      "ValueError: Imcompatible value encountered: No points given\n",
      "  -> The acceptable correlation threshold was too strict.\n",
      "  -> The features are weakely correlated.\n",
      "  -> Please consider increasing it.\n",
      "-----------------------------------------------------------------------\n",
      "  -> CLOISTER has completed.\n"
     ]
    },
    {
     "data": {
      "text/plain": [
       "CloisterOut(z_edge=array([[  4.83495693,   6.43740508],\n",
       "       [  4.50707178,   9.21096046],\n",
       "       [  2.29027084,  10.36993617],\n",
       "       [  0.99654196,  10.40018814],\n",
       "       [ -0.61987325,   9.8185054 ],\n",
       "       [ -3.14838357,   5.09863566],\n",
       "       [ -3.64838277,   4.09600156],\n",
       "       [ -4.29413137,   2.48505783],\n",
       "       [ -5.0510981 ,  -0.28812621],\n",
       "       [ -5.29251233,  -3.86550127],\n",
       "       [ -5.43777582,  -8.20042559],\n",
       "       [ -5.10989067, -10.97398096],\n",
       "       [ -2.89308973, -12.13295667],\n",
       "       [ -1.59936085, -12.16320864],\n",
       "       [  0.01705435, -11.5815259 ],\n",
       "       [  2.54556467,  -6.86165616],\n",
       "       [  3.04556388,  -5.85902207],\n",
       "       [  3.69131247,  -4.24807834],\n",
       "       [  4.44827921,  -1.4748943 ],\n",
       "       [  4.68969343,   2.10248076]]), z_ecorr=array([[  4.83495693,   6.43740508],\n",
       "       [  4.50707178,   9.21096046],\n",
       "       [  2.29027084,  10.36993617],\n",
       "       [  0.99654196,  10.40018814],\n",
       "       [ -0.61987325,   9.8185054 ],\n",
       "       [ -3.14838357,   5.09863566],\n",
       "       [ -3.64838277,   4.09600156],\n",
       "       [ -4.29413137,   2.48505783],\n",
       "       [ -5.0510981 ,  -0.28812621],\n",
       "       [ -5.29251233,  -3.86550127],\n",
       "       [ -5.43777582,  -8.20042559],\n",
       "       [ -5.10989067, -10.97398096],\n",
       "       [ -2.89308973, -12.13295667],\n",
       "       [ -1.59936085, -12.16320864],\n",
       "       [  0.01705435, -11.5815259 ],\n",
       "       [  2.54556467,  -6.86165616],\n",
       "       [  3.04556388,  -5.85902207],\n",
       "       [  3.69131247,  -4.24807834],\n",
       "       [  4.44827921,  -1.4748943 ],\n",
       "       [  4.68969343,   2.10248076]]))"
      ]
     },
     "execution_count": 51,
     "metadata": {},
     "output_type": "execute_result"
    }
   ],
   "source": [
    "instance_space.cloister()"
   ]
  },
  {
   "cell_type": "code",
   "execution_count": 52,
   "metadata": {},
   "outputs": [
    {
     "name": "stdout",
     "output_type": "stream",
     "text": [
      "  -> CLOISTER is using correlation to estimate a boundary for the space.\n",
      "-----------------------------------------------------------------------\n",
      "  -> CLOISTER has completed.\n"
     ]
    },
    {
     "data": {
      "text/plain": [
       "CloisterOut(z_edge=array([[  4.83495693,   6.43740508],\n",
       "       [  4.50707178,   9.21096046],\n",
       "       [  2.29027084,  10.36993617],\n",
       "       [  0.99654196,  10.40018814],\n",
       "       [ -0.61987325,   9.8185054 ],\n",
       "       [ -3.14838357,   5.09863566],\n",
       "       [ -3.64838277,   4.09600156],\n",
       "       [ -4.29413137,   2.48505783],\n",
       "       [ -5.0510981 ,  -0.28812621],\n",
       "       [ -5.29251233,  -3.86550127],\n",
       "       [ -5.43777582,  -8.20042559],\n",
       "       [ -5.10989067, -10.97398096],\n",
       "       [ -2.89308973, -12.13295667],\n",
       "       [ -1.59936085, -12.16320864],\n",
       "       [  0.01705435, -11.5815259 ],\n",
       "       [  2.54556467,  -6.86165616],\n",
       "       [  3.04556388,  -5.85902207],\n",
       "       [  3.69131247,  -4.24807834],\n",
       "       [  4.44827921,  -1.4748943 ],\n",
       "       [  4.68969343,   2.10248076]]), z_ecorr=array([[-5.29251233, -3.86550127],\n",
       "       [ 3.04556388, -5.85902207],\n",
       "       [ 3.69131247, -4.24807834],\n",
       "       [ 4.44827921, -1.4748943 ],\n",
       "       [ 4.68969343,  2.10248076],\n",
       "       [-3.64838277,  4.09600156],\n",
       "       [-4.29413137,  2.48505783],\n",
       "       [-5.0510981 , -0.28812621]]))"
      ]
     },
     "execution_count": 52,
     "metadata": {},
     "output_type": "execute_result"
    }
   ],
   "source": [
    "# Change the options somehow, will think on this\n",
    "from matilda.data.option import CloisterOptions\n",
    "\n",
    "instance_space._options = matilda.Options.default(\n",
    "    cloister=CloisterOptions.default(p_val=0.2, c_thres=0.7),\n",
    ")\n",
    "instance_space.cloister()"
   ]
  },
  {
   "cell_type": "code",
   "execution_count": 53,
   "metadata": {},
   "outputs": [
    {
     "name": "stdout",
     "output_type": "stream",
     "text": [
      "-> NOT COMPLETED, PLACEHOLDER USED\n"
     ]
    }
   ],
   "source": [
    "instance_space.trace()"
   ]
  },
  {
   "cell_type": "code",
   "execution_count": 54,
   "metadata": {},
   "outputs": [
    {
     "name": "stdout",
     "output_type": "stream",
     "text": [
      "  -> Initializing PYTHIA.\n",
      "-> NOT COMPLETED, PLACEHOLDER USED\n"
     ]
    }
   ],
   "source": [
    "instance_space.pythia()"
   ]
  },
  {
   "cell_type": "code",
   "execution_count": 55,
   "metadata": {},
   "outputs": [
    {
     "name": "stdout",
     "output_type": "stream",
     "text": [
      "\u001b[1m============================= test session starts ==============================\u001b[0m\n",
      "platform linux -- Python 3.12.3, pytest-8.2.0, pluggy-1.5.0\n",
      "rootdir: /home/neatht/uni/YearLongProject/MT-Updating-Matilda\n",
      "configfile: pyproject.toml\n",
      "plugins: anyio-4.3.0\n",
      "collected 98 items                                                             \u001b[0m\n",
      "\n",
      "tests/test_basic.py \u001b[32m.\u001b[0m\u001b[32m                                                    [  1%]\u001b[0m\n",
      "tests/test_cloister.py \u001b[32m.\u001b[0m\u001b[32m.\u001b[0m\u001b[32m.\u001b[0m\u001b[32m.\u001b[0m\u001b[32m.\u001b[0m\u001b[32m.\u001b[0m\u001b[32m.\u001b[0m\u001b[32m.\u001b[0m\u001b[32m                                          [  9%]\u001b[0m\n",
      "tests/test_load_file.py \u001b[32m.\u001b[0m\u001b[32m.\u001b[0m\u001b[32m.\u001b[0m\u001b[32m.\u001b[0m\u001b[32m.\u001b[0m\u001b[32m.\u001b[0m\u001b[32m.\u001b[0m\u001b[32m.\u001b[0m\u001b[32m.\u001b[0m\u001b[32m.\u001b[0m\u001b[32m.\u001b[0m\u001b[32m.\u001b[0m\u001b[32m.\u001b[0m\u001b[32m.\u001b[0m\u001b[32m.\u001b[0m\u001b[32m.\u001b[0m\u001b[32m.\u001b[0m\u001b[32m.\u001b[0m\u001b[32m.\u001b[0m\u001b[32m.\u001b[0m\u001b[32m.\u001b[0m\u001b[32m.\u001b[0m\u001b[32m.\u001b[0m\u001b[32m.\u001b[0m\u001b[32m.\u001b[0m\u001b[32m.\u001b[0m\u001b[32m.\u001b[0m\u001b[32m.\u001b[0m\u001b[32m.\u001b[0m\u001b[32m.\u001b[0m\u001b[32m.\u001b[0m\u001b[32m.\u001b[0m\u001b[32m.\u001b[0m\u001b[32m.\u001b[0m\u001b[32m.\u001b[0m\u001b[32m.\u001b[0m\u001b[32m.\u001b[0m\u001b[32m.\u001b[0m\u001b[32m.\u001b[0m\u001b[32m.\u001b[0m\u001b[32m.\u001b[0m\u001b[32m.\u001b[0m\u001b[32m.\u001b[0m\u001b[32m.\u001b[0m\u001b[32m.\u001b[0m\u001b[32m.\u001b[0m\u001b[32m.\u001b[0m\u001b[32m.\u001b[0m\u001b[32m [ 58%]\n",
      "\u001b[0m\u001b[32m.\u001b[0m\u001b[32m.\u001b[0m\u001b[32m.\u001b[0m\u001b[32m.\u001b[0m\u001b[32m.\u001b[0m\u001b[32m.\u001b[0m\u001b[32m.\u001b[0m\u001b[32m.\u001b[0m\u001b[32m.\u001b[0m\u001b[32m.\u001b[0m\u001b[32m.\u001b[0m\u001b[32m.\u001b[0m\u001b[32m.\u001b[0m\u001b[32m.\u001b[0m\u001b[32m.\u001b[0m\u001b[32m.\u001b[0m\u001b[32m.\u001b[0m\u001b[32m.\u001b[0m\u001b[32m.\u001b[0m\u001b[32m.\u001b[0m\u001b[32m.\u001b[0m\u001b[32m.\u001b[0m\u001b[32m.\u001b[0m\u001b[32m.\u001b[0m\u001b[32m.\u001b[0m\u001b[32m.\u001b[0m\u001b[32m.\u001b[0m\u001b[32m.\u001b[0m\u001b[32m.\u001b[0m\u001b[32m.\u001b[0m\u001b[32m.\u001b[0m\u001b[32m.\u001b[0m\u001b[32m.\u001b[0m\u001b[32m.\u001b[0m\u001b[32m.\u001b[0m\u001b[32m.\u001b[0m\u001b[32m.\u001b[0m\u001b[32m.\u001b[0m\u001b[32m.\u001b[0m\u001b[32m.\u001b[0m\u001b[32m.\u001b[0m\u001b[32m                                [100%]\u001b[0m\n",
      "\n",
      "\u001b[32m============================== \u001b[32m\u001b[1m98 passed\u001b[0m\u001b[32m in 0.76s\u001b[0m\u001b[32m ==============================\u001b[0m\n"
     ]
    }
   ],
   "source": [
    "! (cd ../ && poetry run pytest)"
   ]
  },
  {
   "cell_type": "code",
   "execution_count": null,
   "metadata": {},
   "outputs": [],
   "source": []
  }
 ],
 "metadata": {
  "kernelspec": {
   "display_name": ".venv",
   "language": "python",
   "name": "python3"
  },
  "language_info": {
   "codemirror_mode": {
    "name": "ipython",
    "version": 3
   },
   "file_extension": ".py",
   "mimetype": "text/x-python",
   "name": "python",
   "nbconvert_exporter": "python",
   "pygments_lexer": "ipython3",
   "version": "3.12.3"
  }
 },
 "nbformat": 4,
 "nbformat_minor": 2
}
